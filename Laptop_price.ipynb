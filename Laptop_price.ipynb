{
 "cells": [
  {
   "cell_type": "code",
   "execution_count": 1,
   "metadata": {
    "ExecuteTime": {
     "end_time": "2023-04-05T04:53:53.916212Z",
     "start_time": "2023-04-05T04:53:39.086317Z"
    },
    "id": "riwx-6bEAvMn"
   },
   "outputs": [],
   "source": [
    "import pandas as pd\n",
    "import numpy as np\n",
    "import re"
   ]
  },
  {
   "cell_type": "code",
   "execution_count": 2,
   "metadata": {
    "ExecuteTime": {
     "end_time": "2023-04-05T04:53:54.206125Z",
     "start_time": "2023-04-05T04:53:53.926031Z"
    },
    "id": "Qhaf1vleA4cu"
   },
   "outputs": [],
   "source": [
    "df = pd.read_csv('laptop_details.csv')"
   ]
  },
  {
   "cell_type": "code",
   "execution_count": 3,
   "metadata": {
    "ExecuteTime": {
     "end_time": "2023-04-05T04:53:54.496046Z",
     "start_time": "2023-04-05T04:53:54.225957Z"
    },
    "colab": {
     "base_uri": "https://localhost:8080/",
     "height": 206
    },
    "id": "hjg8U4eaBBw8",
    "outputId": "0de1d614-58f7-40cf-ea6e-08dfecf4ed35"
   },
   "outputs": [
    {
     "data": {
      "text/html": [
       "<div>\n",
       "<style scoped>\n",
       "    .dataframe tbody tr th:only-of-type {\n",
       "        vertical-align: middle;\n",
       "    }\n",
       "\n",
       "    .dataframe tbody tr th {\n",
       "        vertical-align: top;\n",
       "    }\n",
       "\n",
       "    .dataframe thead th {\n",
       "        text-align: right;\n",
       "    }\n",
       "</style>\n",
       "<table border=\"1\" class=\"dataframe\">\n",
       "  <thead>\n",
       "    <tr style=\"text-align: right;\">\n",
       "      <th></th>\n",
       "      <th>Product</th>\n",
       "      <th>Rating</th>\n",
       "      <th>MRP</th>\n",
       "      <th>Feature</th>\n",
       "    </tr>\n",
       "  </thead>\n",
       "  <tbody>\n",
       "    <tr>\n",
       "      <th>0</th>\n",
       "      <td>Lenovo IdeaPad 3 Core i3 11th Gen - (8 GB/256 ...</td>\n",
       "      <td>4.2</td>\n",
       "      <td>₹36,990</td>\n",
       "      <td>Intel Core i3 Processor (11th Gen)8 GB DDR4 RA...</td>\n",
       "    </tr>\n",
       "    <tr>\n",
       "      <th>1</th>\n",
       "      <td>Lenovo IdeaPad 3 Core i3 11th Gen - (8 GB/512 ...</td>\n",
       "      <td>4.2</td>\n",
       "      <td>₹39,990</td>\n",
       "      <td>Intel Core i3 Processor (11th Gen)8 GB DDR4 RA...</td>\n",
       "    </tr>\n",
       "    <tr>\n",
       "      <th>2</th>\n",
       "      <td>ASUS VivoBook 15 (2022) Core i3 10th Gen - (8 ...</td>\n",
       "      <td>4.3</td>\n",
       "      <td>₹32,990</td>\n",
       "      <td>Intel Core i3 Processor (10th Gen)8 GB DDR4 RA...</td>\n",
       "    </tr>\n",
       "    <tr>\n",
       "      <th>3</th>\n",
       "      <td>HP Pavilion Ryzen 5 Hexa Core AMD R5-5600H - (...</td>\n",
       "      <td>4.4</td>\n",
       "      <td>₹49,990</td>\n",
       "      <td>AMD Ryzen 5 Hexa Core Processor8 GB DDR4 RAM64...</td>\n",
       "    </tr>\n",
       "    <tr>\n",
       "      <th>4</th>\n",
       "      <td>ASUS TUF Gaming F15 Core i5 10th Gen - (8 GB/5...</td>\n",
       "      <td>4.4</td>\n",
       "      <td>₹49,990</td>\n",
       "      <td>Intel Core i5 Processor (10th Gen)8 GB DDR4 RA...</td>\n",
       "    </tr>\n",
       "  </tbody>\n",
       "</table>\n",
       "</div>"
      ],
      "text/plain": [
       "                                             Product  Rating      MRP  \\\n",
       "0  Lenovo IdeaPad 3 Core i3 11th Gen - (8 GB/256 ...     4.2  ₹36,990   \n",
       "1  Lenovo IdeaPad 3 Core i3 11th Gen - (8 GB/512 ...     4.2  ₹39,990   \n",
       "2  ASUS VivoBook 15 (2022) Core i3 10th Gen - (8 ...     4.3  ₹32,990   \n",
       "3  HP Pavilion Ryzen 5 Hexa Core AMD R5-5600H - (...     4.4  ₹49,990   \n",
       "4  ASUS TUF Gaming F15 Core i5 10th Gen - (8 GB/5...     4.4  ₹49,990   \n",
       "\n",
       "                                             Feature  \n",
       "0  Intel Core i3 Processor (11th Gen)8 GB DDR4 RA...  \n",
       "1  Intel Core i3 Processor (11th Gen)8 GB DDR4 RA...  \n",
       "2  Intel Core i3 Processor (10th Gen)8 GB DDR4 RA...  \n",
       "3  AMD Ryzen 5 Hexa Core Processor8 GB DDR4 RAM64...  \n",
       "4  Intel Core i5 Processor (10th Gen)8 GB DDR4 RA...  "
      ]
     },
     "execution_count": 3,
     "metadata": {},
     "output_type": "execute_result"
    }
   ],
   "source": [
    "df.head()"
   ]
  },
  {
   "cell_type": "code",
   "execution_count": 4,
   "metadata": {
    "ExecuteTime": {
     "end_time": "2023-04-05T04:53:54.664840Z",
     "start_time": "2023-04-05T04:53:54.516447Z"
    },
    "colab": {
     "base_uri": "https://localhost:8080/"
    },
    "id": "_dXqLmhCRg8Q",
    "outputId": "8172a345-f181-48bc-eb6a-f7f6b71da920"
   },
   "outputs": [
    {
     "name": "stdout",
     "output_type": "stream",
     "text": [
      "<class 'pandas.core.frame.DataFrame'>\n",
      "RangeIndex: 720 entries, 0 to 719\n",
      "Data columns (total 4 columns):\n",
      " #   Column   Non-Null Count  Dtype  \n",
      "---  ------   --------------  -----  \n",
      " 0   Product  720 non-null    object \n",
      " 1   Rating   581 non-null    float64\n",
      " 2   MRP      720 non-null    object \n",
      " 3   Feature  720 non-null    object \n",
      "dtypes: float64(1), object(3)\n",
      "memory usage: 22.6+ KB\n"
     ]
    }
   ],
   "source": [
    "df.info()"
   ]
  },
  {
   "cell_type": "code",
   "execution_count": 5,
   "metadata": {
    "ExecuteTime": {
     "end_time": "2023-04-05T04:53:54.726145Z",
     "start_time": "2023-04-05T04:53:54.676174Z"
    },
    "colab": {
     "base_uri": "https://localhost:8080/"
    },
    "id": "po_uFKmMRrAC",
    "outputId": "e30f1eaa-d70f-4352-8785-62a849ea62a5"
   },
   "outputs": [
    {
     "data": {
      "text/plain": [
       "Product      0\n",
       "Rating     139\n",
       "MRP          0\n",
       "Feature      0\n",
       "dtype: int64"
      ]
     },
     "execution_count": 5,
     "metadata": {},
     "output_type": "execute_result"
    }
   ],
   "source": [
    "df.isnull().sum()"
   ]
  },
  {
   "cell_type": "code",
   "execution_count": 6,
   "metadata": {
    "ExecuteTime": {
     "end_time": "2023-04-05T04:53:54.905923Z",
     "start_time": "2023-04-05T04:53:54.736359Z"
    },
    "colab": {
     "base_uri": "https://localhost:8080/"
    },
    "id": "hsPCKmvVT5Qc",
    "outputId": "685d4362-e1cb-46c8-bd05-ed0b98984667"
   },
   "outputs": [
    {
     "data": {
      "text/plain": [
       "297"
      ]
     },
     "execution_count": 6,
     "metadata": {},
     "output_type": "execute_result"
    }
   ],
   "source": [
    "df.duplicated().sum()"
   ]
  },
  {
   "cell_type": "code",
   "execution_count": 7,
   "metadata": {
    "ExecuteTime": {
     "end_time": "2023-04-05T04:53:54.946263Z",
     "start_time": "2023-04-05T04:53:54.916118Z"
    },
    "colab": {
     "base_uri": "https://localhost:8080/"
    },
    "id": "KsVI4q9qT9qP",
    "outputId": "5af0a401-24b4-44fd-fb41-09edd2ceb077"
   },
   "outputs": [
    {
     "data": {
      "text/plain": [
       "Index(['Product', 'Rating', 'MRP', 'Feature'], dtype='object')"
      ]
     },
     "execution_count": 7,
     "metadata": {},
     "output_type": "execute_result"
    }
   ],
   "source": [
    "df.columns"
   ]
  },
  {
   "cell_type": "code",
   "execution_count": 8,
   "metadata": {
    "ExecuteTime": {
     "end_time": "2023-04-05T04:53:55.063332Z",
     "start_time": "2023-04-05T04:53:54.955869Z"
    },
    "colab": {
     "base_uri": "https://localhost:8080/"
    },
    "id": "JxHXEvCw0MZ3",
    "outputId": "c65dac70-2c18-4d56-b96c-6c9f5c2d4e1a"
   },
   "outputs": [
    {
     "data": {
      "text/plain": [
       "(720, 4)"
      ]
     },
     "execution_count": 8,
     "metadata": {},
     "output_type": "execute_result"
    }
   ],
   "source": [
    "df.shape"
   ]
  },
  {
   "cell_type": "code",
   "execution_count": 9,
   "metadata": {
    "ExecuteTime": {
     "end_time": "2023-04-05T04:53:55.216431Z",
     "start_time": "2023-04-05T04:53:55.066004Z"
    },
    "id": "EY5aULCk0Pyv"
   },
   "outputs": [],
   "source": [
    "df = df.drop_duplicates()"
   ]
  },
  {
   "cell_type": "code",
   "execution_count": 10,
   "metadata": {
    "ExecuteTime": {
     "end_time": "2023-04-05T04:53:55.296144Z",
     "start_time": "2023-04-05T04:53:55.246266Z"
    },
    "colab": {
     "base_uri": "https://localhost:8080/"
    },
    "id": "ImExsSpl0fzo",
    "outputId": "b07d5916-3860-49dd-f3ee-6ce914dc7c5a"
   },
   "outputs": [
    {
     "data": {
      "text/plain": [
       "(423, 4)"
      ]
     },
     "execution_count": 10,
     "metadata": {},
     "output_type": "execute_result"
    }
   ],
   "source": [
    "df.shape"
   ]
  },
  {
   "cell_type": "code",
   "execution_count": 11,
   "metadata": {
    "ExecuteTime": {
     "end_time": "2023-04-05T04:53:55.412233Z",
     "start_time": "2023-04-05T04:53:55.305871Z"
    },
    "colab": {
     "base_uri": "https://localhost:8080/",
     "height": 206
    },
    "id": "hxqTOYGi1PoY",
    "outputId": "414f07f9-f613-4895-82f5-bfe4c1fedef4"
   },
   "outputs": [
    {
     "data": {
      "text/html": [
       "<div>\n",
       "<style scoped>\n",
       "    .dataframe tbody tr th:only-of-type {\n",
       "        vertical-align: middle;\n",
       "    }\n",
       "\n",
       "    .dataframe tbody tr th {\n",
       "        vertical-align: top;\n",
       "    }\n",
       "\n",
       "    .dataframe thead th {\n",
       "        text-align: right;\n",
       "    }\n",
       "</style>\n",
       "<table border=\"1\" class=\"dataframe\">\n",
       "  <thead>\n",
       "    <tr style=\"text-align: right;\">\n",
       "      <th></th>\n",
       "      <th>Product</th>\n",
       "      <th>Rating</th>\n",
       "      <th>MRP</th>\n",
       "      <th>Feature</th>\n",
       "    </tr>\n",
       "  </thead>\n",
       "  <tbody>\n",
       "    <tr>\n",
       "      <th>0</th>\n",
       "      <td>Lenovo IdeaPad 3 Core i3 11th Gen - (8 GB/256 ...</td>\n",
       "      <td>4.2</td>\n",
       "      <td>₹36,990</td>\n",
       "      <td>Intel Core i3 Processor (11th Gen)8 GB DDR4 RA...</td>\n",
       "    </tr>\n",
       "    <tr>\n",
       "      <th>1</th>\n",
       "      <td>Lenovo IdeaPad 3 Core i3 11th Gen - (8 GB/512 ...</td>\n",
       "      <td>4.2</td>\n",
       "      <td>₹39,990</td>\n",
       "      <td>Intel Core i3 Processor (11th Gen)8 GB DDR4 RA...</td>\n",
       "    </tr>\n",
       "    <tr>\n",
       "      <th>2</th>\n",
       "      <td>ASUS VivoBook 15 (2022) Core i3 10th Gen - (8 ...</td>\n",
       "      <td>4.3</td>\n",
       "      <td>₹32,990</td>\n",
       "      <td>Intel Core i3 Processor (10th Gen)8 GB DDR4 RA...</td>\n",
       "    </tr>\n",
       "    <tr>\n",
       "      <th>3</th>\n",
       "      <td>HP Pavilion Ryzen 5 Hexa Core AMD R5-5600H - (...</td>\n",
       "      <td>4.4</td>\n",
       "      <td>₹49,990</td>\n",
       "      <td>AMD Ryzen 5 Hexa Core Processor8 GB DDR4 RAM64...</td>\n",
       "    </tr>\n",
       "    <tr>\n",
       "      <th>4</th>\n",
       "      <td>ASUS TUF Gaming F15 Core i5 10th Gen - (8 GB/5...</td>\n",
       "      <td>4.4</td>\n",
       "      <td>₹49,990</td>\n",
       "      <td>Intel Core i5 Processor (10th Gen)8 GB DDR4 RA...</td>\n",
       "    </tr>\n",
       "  </tbody>\n",
       "</table>\n",
       "</div>"
      ],
      "text/plain": [
       "                                             Product  Rating      MRP  \\\n",
       "0  Lenovo IdeaPad 3 Core i3 11th Gen - (8 GB/256 ...     4.2  ₹36,990   \n",
       "1  Lenovo IdeaPad 3 Core i3 11th Gen - (8 GB/512 ...     4.2  ₹39,990   \n",
       "2  ASUS VivoBook 15 (2022) Core i3 10th Gen - (8 ...     4.3  ₹32,990   \n",
       "3  HP Pavilion Ryzen 5 Hexa Core AMD R5-5600H - (...     4.4  ₹49,990   \n",
       "4  ASUS TUF Gaming F15 Core i5 10th Gen - (8 GB/5...     4.4  ₹49,990   \n",
       "\n",
       "                                             Feature  \n",
       "0  Intel Core i3 Processor (11th Gen)8 GB DDR4 RA...  \n",
       "1  Intel Core i3 Processor (11th Gen)8 GB DDR4 RA...  \n",
       "2  Intel Core i3 Processor (10th Gen)8 GB DDR4 RA...  \n",
       "3  AMD Ryzen 5 Hexa Core Processor8 GB DDR4 RAM64...  \n",
       "4  Intel Core i5 Processor (10th Gen)8 GB DDR4 RA...  "
      ]
     },
     "execution_count": 11,
     "metadata": {},
     "output_type": "execute_result"
    }
   ],
   "source": [
    "df.head()"
   ]
  },
  {
   "cell_type": "code",
   "execution_count": 12,
   "metadata": {
    "ExecuteTime": {
     "end_time": "2023-04-05T04:53:56.286399Z",
     "start_time": "2023-04-05T04:53:55.415827Z"
    },
    "id": "SZqw8LwnX6m5"
   },
   "outputs": [],
   "source": [
    "def extract_features(row):\n",
    "    product = row['Product']\n",
    "    feature = row['Feature']\n",
    "    \n",
    "    RAM = re.findall(r'(\\d+) ?(?:GB|TB)', feature)\n",
    "    RAM = RAM[0] + ' GB' if RAM else None\n",
    "    \n",
    "    ram_type = re.findall(r'(?:LP)?DDR\\d\\S*|Unified\\sMemory', feature)\n",
    "    ram_type = ram_type[0] if ram_type else None\n",
    "    \n",
    "    processor = re.findall(r'(?:AMD|Intel|M1|Qualcomm|Apple)[\\s\\w]+Processor', feature)\n",
    "    processor = processor[0] if processor else None\n",
    "\n",
    "    storage = re.findall(r'[\\d]+\\s(?:GB|TB)\\s(?:HDD|SSD|EMMC)', product)\n",
    "    storage = storage[0] if storage else None\n",
    "    \n",
    "    os = re.findall(r'(Windows (?:10|11)|Mac OS|Linux|DOS|Chrome)[\\s\\w]*Operating System', feature)\n",
    "    os = os[0] if os else None\n",
    "\n",
    "    display = re.findall(r'\\d+(?:\\.\\d+)?\\s*(?:cm|inch)\\s*(?:\\(|:)?\\s*\\d+(?:\\.\\d+)?\\s*(?:cm|inch)?', feature)\n",
    "    display = display[0] if display else None\n",
    "    \n",
    "    brand = re.findall(r'^\\w+', product)\n",
    "    brand = brand[0] if brand else None\n",
    "    \n",
    "    return pd.Series([RAM, ram_type, processor, storage, os, display, brand], \n",
    "                     index=['Ram_Size', 'Ram_Type', 'Processor', 'Storage', 'OS', 'Display', 'Brand'])\n",
    "\n",
    "df[['Ram_Size', 'Ram_Type', 'Processor', 'Storage', 'OS', 'Display', 'Brand']] = df.apply(extract_features, axis=1)"
   ]
  },
  {
   "cell_type": "code",
   "execution_count": 13,
   "metadata": {
    "ExecuteTime": {
     "end_time": "2023-04-05T04:53:56.408808Z",
     "start_time": "2023-04-05T04:53:56.296240Z"
    },
    "colab": {
     "base_uri": "https://localhost:8080/",
     "height": 641
    },
    "id": "_xUSiHejhoCv",
    "outputId": "6c88e6e6-a280-4670-84e2-d1e1af4aad43"
   },
   "outputs": [
    {
     "data": {
      "text/html": [
       "<div>\n",
       "<style scoped>\n",
       "    .dataframe tbody tr th:only-of-type {\n",
       "        vertical-align: middle;\n",
       "    }\n",
       "\n",
       "    .dataframe tbody tr th {\n",
       "        vertical-align: top;\n",
       "    }\n",
       "\n",
       "    .dataframe thead th {\n",
       "        text-align: right;\n",
       "    }\n",
       "</style>\n",
       "<table border=\"1\" class=\"dataframe\">\n",
       "  <thead>\n",
       "    <tr style=\"text-align: right;\">\n",
       "      <th></th>\n",
       "      <th>Product</th>\n",
       "      <th>Rating</th>\n",
       "      <th>MRP</th>\n",
       "      <th>Feature</th>\n",
       "      <th>Ram_Size</th>\n",
       "      <th>Ram_Type</th>\n",
       "      <th>Processor</th>\n",
       "      <th>Storage</th>\n",
       "      <th>OS</th>\n",
       "      <th>Display</th>\n",
       "      <th>Brand</th>\n",
       "    </tr>\n",
       "  </thead>\n",
       "  <tbody>\n",
       "    <tr>\n",
       "      <th>0</th>\n",
       "      <td>Lenovo IdeaPad 3 Core i3 11th Gen - (8 GB/256 ...</td>\n",
       "      <td>4.2</td>\n",
       "      <td>₹36,990</td>\n",
       "      <td>Intel Core i3 Processor (11th Gen)8 GB DDR4 RA...</td>\n",
       "      <td>8 GB</td>\n",
       "      <td>DDR4</td>\n",
       "      <td>Intel Core i3 Processor</td>\n",
       "      <td>256 GB SSD</td>\n",
       "      <td>Windows 11</td>\n",
       "      <td>35.56 cm (14 inch</td>\n",
       "      <td>Lenovo</td>\n",
       "    </tr>\n",
       "    <tr>\n",
       "      <th>1</th>\n",
       "      <td>Lenovo IdeaPad 3 Core i3 11th Gen - (8 GB/512 ...</td>\n",
       "      <td>4.2</td>\n",
       "      <td>₹39,990</td>\n",
       "      <td>Intel Core i3 Processor (11th Gen)8 GB DDR4 RA...</td>\n",
       "      <td>8 GB</td>\n",
       "      <td>DDR4</td>\n",
       "      <td>Intel Core i3 Processor</td>\n",
       "      <td>512 GB SSD</td>\n",
       "      <td>Windows 11</td>\n",
       "      <td>39.62 cm (15.6 inch</td>\n",
       "      <td>Lenovo</td>\n",
       "    </tr>\n",
       "    <tr>\n",
       "      <th>2</th>\n",
       "      <td>ASUS VivoBook 15 (2022) Core i3 10th Gen - (8 ...</td>\n",
       "      <td>4.3</td>\n",
       "      <td>₹32,990</td>\n",
       "      <td>Intel Core i3 Processor (10th Gen)8 GB DDR4 RA...</td>\n",
       "      <td>8 GB</td>\n",
       "      <td>DDR4</td>\n",
       "      <td>Intel Core i3 Processor</td>\n",
       "      <td>512 GB SSD</td>\n",
       "      <td>Windows 11</td>\n",
       "      <td>39.62 cm (15.6 inch</td>\n",
       "      <td>ASUS</td>\n",
       "    </tr>\n",
       "    <tr>\n",
       "      <th>3</th>\n",
       "      <td>HP Pavilion Ryzen 5 Hexa Core AMD R5-5600H - (...</td>\n",
       "      <td>4.4</td>\n",
       "      <td>₹49,990</td>\n",
       "      <td>AMD Ryzen 5 Hexa Core Processor8 GB DDR4 RAM64...</td>\n",
       "      <td>8 GB</td>\n",
       "      <td>DDR4</td>\n",
       "      <td>AMD Ryzen 5 Hexa Core Processor</td>\n",
       "      <td>512 GB SSD</td>\n",
       "      <td>Windows 10</td>\n",
       "      <td>39.62 cm (15.6 inch</td>\n",
       "      <td>HP</td>\n",
       "    </tr>\n",
       "    <tr>\n",
       "      <th>4</th>\n",
       "      <td>ASUS TUF Gaming F15 Core i5 10th Gen - (8 GB/5...</td>\n",
       "      <td>4.4</td>\n",
       "      <td>₹49,990</td>\n",
       "      <td>Intel Core i5 Processor (10th Gen)8 GB DDR4 RA...</td>\n",
       "      <td>8 GB</td>\n",
       "      <td>DDR4</td>\n",
       "      <td>Intel Core i5 Processor</td>\n",
       "      <td>512 GB SSD</td>\n",
       "      <td>Windows 11</td>\n",
       "      <td>39.62 cm (15.6 inch</td>\n",
       "      <td>ASUS</td>\n",
       "    </tr>\n",
       "    <tr>\n",
       "      <th>...</th>\n",
       "      <td>...</td>\n",
       "      <td>...</td>\n",
       "      <td>...</td>\n",
       "      <td>...</td>\n",
       "      <td>...</td>\n",
       "      <td>...</td>\n",
       "      <td>...</td>\n",
       "      <td>...</td>\n",
       "      <td>...</td>\n",
       "      <td>...</td>\n",
       "      <td>...</td>\n",
       "    </tr>\n",
       "    <tr>\n",
       "      <th>713</th>\n",
       "      <td>DELL Core i5 12th Gen - (16 GB/512 GB SSD/Wind...</td>\n",
       "      <td>NaN</td>\n",
       "      <td>₹76,590</td>\n",
       "      <td>Intel Core i5 Processor (12th Gen)16 GB DDR5 R...</td>\n",
       "      <td>16 GB</td>\n",
       "      <td>DDR5</td>\n",
       "      <td>Intel Core i5 Processor</td>\n",
       "      <td>512 GB SSD</td>\n",
       "      <td>Windows 11</td>\n",
       "      <td>33.78 cm (13.3</td>\n",
       "      <td>DELL</td>\n",
       "    </tr>\n",
       "    <tr>\n",
       "      <th>714</th>\n",
       "      <td>HP Pavilion Ryzen 7 Octa Core AMD R7-5800H - (...</td>\n",
       "      <td>4.6</td>\n",
       "      <td>₹90,000</td>\n",
       "      <td>AMD Ryzen 7 Octa Core Processor16 GB DDR4 RAM6...</td>\n",
       "      <td>16 GB</td>\n",
       "      <td>DDR4</td>\n",
       "      <td>AMD Ryzen 7 Octa Core Processor</td>\n",
       "      <td>512 GB SSD</td>\n",
       "      <td>Windows 10</td>\n",
       "      <td>39.62 cm (15.6 inch</td>\n",
       "      <td>HP</td>\n",
       "    </tr>\n",
       "    <tr>\n",
       "      <th>715</th>\n",
       "      <td>ASUS Chromebook Flip Touch Celeron Dual Core -...</td>\n",
       "      <td>4.0</td>\n",
       "      <td>₹23,490</td>\n",
       "      <td>Intel Celeron Dual Core Processor4 GB LPDDR4 R...</td>\n",
       "      <td>4 GB</td>\n",
       "      <td>LPDDR4</td>\n",
       "      <td>Intel Celeron Dual Core Processor</td>\n",
       "      <td>64 GB EMMC</td>\n",
       "      <td>Chrome</td>\n",
       "      <td>29.46 cm (11.6 inch</td>\n",
       "      <td>ASUS</td>\n",
       "    </tr>\n",
       "    <tr>\n",
       "      <th>718</th>\n",
       "      <td>ASUS Zenbook Flip 14 OLED (2022) Touch Panel C...</td>\n",
       "      <td>3.0</td>\n",
       "      <td>₹1,25,990</td>\n",
       "      <td>Intel Core i7 Processor (12th Gen)16 GB LPDDR5...</td>\n",
       "      <td>16 GB</td>\n",
       "      <td>LPDDR5</td>\n",
       "      <td>Intel Core i7 Processor</td>\n",
       "      <td>512 GB SSD</td>\n",
       "      <td>Windows 11</td>\n",
       "      <td>35.56 cm (14 inch</td>\n",
       "      <td>ASUS</td>\n",
       "    </tr>\n",
       "    <tr>\n",
       "      <th>719</th>\n",
       "      <td>Lenovo Ideapad Slim 3i Core i5 10th Gen - (8 G...</td>\n",
       "      <td>4.2</td>\n",
       "      <td>₹50,990</td>\n",
       "      <td>Intel Core i5 Processor (10th Gen)8 GB DDR4 RA...</td>\n",
       "      <td>8 GB</td>\n",
       "      <td>DDR4</td>\n",
       "      <td>Intel Core i5 Processor</td>\n",
       "      <td>1 TB HDD</td>\n",
       "      <td>Windows 10</td>\n",
       "      <td>39.62 cm (15.6 inch</td>\n",
       "      <td>Lenovo</td>\n",
       "    </tr>\n",
       "  </tbody>\n",
       "</table>\n",
       "<p>423 rows × 11 columns</p>\n",
       "</div>"
      ],
      "text/plain": [
       "                                               Product  Rating        MRP  \\\n",
       "0    Lenovo IdeaPad 3 Core i3 11th Gen - (8 GB/256 ...     4.2    ₹36,990   \n",
       "1    Lenovo IdeaPad 3 Core i3 11th Gen - (8 GB/512 ...     4.2    ₹39,990   \n",
       "2    ASUS VivoBook 15 (2022) Core i3 10th Gen - (8 ...     4.3    ₹32,990   \n",
       "3    HP Pavilion Ryzen 5 Hexa Core AMD R5-5600H - (...     4.4    ₹49,990   \n",
       "4    ASUS TUF Gaming F15 Core i5 10th Gen - (8 GB/5...     4.4    ₹49,990   \n",
       "..                                                 ...     ...        ...   \n",
       "713  DELL Core i5 12th Gen - (16 GB/512 GB SSD/Wind...     NaN    ₹76,590   \n",
       "714  HP Pavilion Ryzen 7 Octa Core AMD R7-5800H - (...     4.6    ₹90,000   \n",
       "715  ASUS Chromebook Flip Touch Celeron Dual Core -...     4.0    ₹23,490   \n",
       "718  ASUS Zenbook Flip 14 OLED (2022) Touch Panel C...     3.0  ₹1,25,990   \n",
       "719  Lenovo Ideapad Slim 3i Core i5 10th Gen - (8 G...     4.2    ₹50,990   \n",
       "\n",
       "                                               Feature Ram_Size Ram_Type  \\\n",
       "0    Intel Core i3 Processor (11th Gen)8 GB DDR4 RA...     8 GB     DDR4   \n",
       "1    Intel Core i3 Processor (11th Gen)8 GB DDR4 RA...     8 GB     DDR4   \n",
       "2    Intel Core i3 Processor (10th Gen)8 GB DDR4 RA...     8 GB     DDR4   \n",
       "3    AMD Ryzen 5 Hexa Core Processor8 GB DDR4 RAM64...     8 GB     DDR4   \n",
       "4    Intel Core i5 Processor (10th Gen)8 GB DDR4 RA...     8 GB     DDR4   \n",
       "..                                                 ...      ...      ...   \n",
       "713  Intel Core i5 Processor (12th Gen)16 GB DDR5 R...    16 GB     DDR5   \n",
       "714  AMD Ryzen 7 Octa Core Processor16 GB DDR4 RAM6...    16 GB     DDR4   \n",
       "715  Intel Celeron Dual Core Processor4 GB LPDDR4 R...     4 GB   LPDDR4   \n",
       "718  Intel Core i7 Processor (12th Gen)16 GB LPDDR5...    16 GB   LPDDR5   \n",
       "719  Intel Core i5 Processor (10th Gen)8 GB DDR4 RA...     8 GB     DDR4   \n",
       "\n",
       "                             Processor     Storage          OS  \\\n",
       "0              Intel Core i3 Processor  256 GB SSD  Windows 11   \n",
       "1              Intel Core i3 Processor  512 GB SSD  Windows 11   \n",
       "2              Intel Core i3 Processor  512 GB SSD  Windows 11   \n",
       "3      AMD Ryzen 5 Hexa Core Processor  512 GB SSD  Windows 10   \n",
       "4              Intel Core i5 Processor  512 GB SSD  Windows 11   \n",
       "..                                 ...         ...         ...   \n",
       "713            Intel Core i5 Processor  512 GB SSD  Windows 11   \n",
       "714    AMD Ryzen 7 Octa Core Processor  512 GB SSD  Windows 10   \n",
       "715  Intel Celeron Dual Core Processor  64 GB EMMC      Chrome   \n",
       "718            Intel Core i7 Processor  512 GB SSD  Windows 11   \n",
       "719            Intel Core i5 Processor    1 TB HDD  Windows 10   \n",
       "\n",
       "                 Display   Brand  \n",
       "0      35.56 cm (14 inch  Lenovo  \n",
       "1    39.62 cm (15.6 inch  Lenovo  \n",
       "2    39.62 cm (15.6 inch    ASUS  \n",
       "3    39.62 cm (15.6 inch      HP  \n",
       "4    39.62 cm (15.6 inch    ASUS  \n",
       "..                   ...     ...  \n",
       "713      33.78 cm (13.3     DELL  \n",
       "714  39.62 cm (15.6 inch      HP  \n",
       "715  29.46 cm (11.6 inch    ASUS  \n",
       "718    35.56 cm (14 inch    ASUS  \n",
       "719  39.62 cm (15.6 inch  Lenovo  \n",
       "\n",
       "[423 rows x 11 columns]"
      ]
     },
     "execution_count": 13,
     "metadata": {},
     "output_type": "execute_result"
    }
   ],
   "source": [
    "df"
   ]
  },
  {
   "cell_type": "code",
   "execution_count": 14,
   "metadata": {
    "ExecuteTime": {
     "end_time": "2023-04-05T04:53:58.395878Z",
     "start_time": "2023-04-05T04:53:56.420877Z"
    },
    "colab": {
     "base_uri": "https://localhost:8080/"
    },
    "id": "vjkPYrvqhpbh",
    "outputId": "fc4a2400-faa2-4ad3-bf0f-ef3a7cc3f451"
   },
   "outputs": [
    {
     "data": {
      "text/plain": [
       "Index(['Product', 'Rating', 'MRP', 'Feature', 'Ram_Size', 'Ram_Type',\n",
       "       'Processor', 'Storage', 'OS', 'Display', 'Brand'],\n",
       "      dtype='object')"
      ]
     },
     "execution_count": 14,
     "metadata": {},
     "output_type": "execute_result"
    }
   ],
   "source": [
    "df.columns"
   ]
  },
  {
   "cell_type": "code",
   "execution_count": 15,
   "metadata": {
    "ExecuteTime": {
     "end_time": "2023-04-05T04:53:58.586044Z",
     "start_time": "2023-04-05T04:53:58.410852Z"
    },
    "id": "gDsBdfxRn6Qo"
   },
   "outputs": [],
   "source": [
    "df = df.drop(columns=['Product','Rating','Feature'])"
   ]
  },
  {
   "cell_type": "code",
   "execution_count": 16,
   "metadata": {
    "ExecuteTime": {
     "end_time": "2023-04-05T04:53:58.745836Z",
     "start_time": "2023-04-05T04:53:58.595964Z"
    },
    "colab": {
     "base_uri": "https://localhost:8080/"
    },
    "id": "tNPbJpePiTdR",
    "outputId": "26d0f6bf-9a79-488d-d33d-3304df7f9bb0"
   },
   "outputs": [
    {
     "data": {
      "text/plain": [
       "(423, 8)"
      ]
     },
     "execution_count": 16,
     "metadata": {},
     "output_type": "execute_result"
    }
   ],
   "source": [
    "df.shape"
   ]
  },
  {
   "cell_type": "code",
   "execution_count": 17,
   "metadata": {
    "ExecuteTime": {
     "end_time": "2023-04-05T04:53:58.925873Z",
     "start_time": "2023-04-05T04:53:58.755858Z"
    },
    "colab": {
     "base_uri": "https://localhost:8080/",
     "height": 206
    },
    "id": "MucM5_I5oRMz",
    "outputId": "abc874e4-28c5-4db6-b0ad-04b6f1e22a02"
   },
   "outputs": [
    {
     "data": {
      "text/html": [
       "<div>\n",
       "<style scoped>\n",
       "    .dataframe tbody tr th:only-of-type {\n",
       "        vertical-align: middle;\n",
       "    }\n",
       "\n",
       "    .dataframe tbody tr th {\n",
       "        vertical-align: top;\n",
       "    }\n",
       "\n",
       "    .dataframe thead th {\n",
       "        text-align: right;\n",
       "    }\n",
       "</style>\n",
       "<table border=\"1\" class=\"dataframe\">\n",
       "  <thead>\n",
       "    <tr style=\"text-align: right;\">\n",
       "      <th></th>\n",
       "      <th>MRP</th>\n",
       "      <th>Ram_Size</th>\n",
       "      <th>Ram_Type</th>\n",
       "      <th>Processor</th>\n",
       "      <th>Storage</th>\n",
       "      <th>OS</th>\n",
       "      <th>Display</th>\n",
       "      <th>Brand</th>\n",
       "    </tr>\n",
       "  </thead>\n",
       "  <tbody>\n",
       "    <tr>\n",
       "      <th>0</th>\n",
       "      <td>₹36,990</td>\n",
       "      <td>8 GB</td>\n",
       "      <td>DDR4</td>\n",
       "      <td>Intel Core i3 Processor</td>\n",
       "      <td>256 GB SSD</td>\n",
       "      <td>Windows 11</td>\n",
       "      <td>35.56 cm (14 inch</td>\n",
       "      <td>Lenovo</td>\n",
       "    </tr>\n",
       "    <tr>\n",
       "      <th>1</th>\n",
       "      <td>₹39,990</td>\n",
       "      <td>8 GB</td>\n",
       "      <td>DDR4</td>\n",
       "      <td>Intel Core i3 Processor</td>\n",
       "      <td>512 GB SSD</td>\n",
       "      <td>Windows 11</td>\n",
       "      <td>39.62 cm (15.6 inch</td>\n",
       "      <td>Lenovo</td>\n",
       "    </tr>\n",
       "    <tr>\n",
       "      <th>2</th>\n",
       "      <td>₹32,990</td>\n",
       "      <td>8 GB</td>\n",
       "      <td>DDR4</td>\n",
       "      <td>Intel Core i3 Processor</td>\n",
       "      <td>512 GB SSD</td>\n",
       "      <td>Windows 11</td>\n",
       "      <td>39.62 cm (15.6 inch</td>\n",
       "      <td>ASUS</td>\n",
       "    </tr>\n",
       "    <tr>\n",
       "      <th>3</th>\n",
       "      <td>₹49,990</td>\n",
       "      <td>8 GB</td>\n",
       "      <td>DDR4</td>\n",
       "      <td>AMD Ryzen 5 Hexa Core Processor</td>\n",
       "      <td>512 GB SSD</td>\n",
       "      <td>Windows 10</td>\n",
       "      <td>39.62 cm (15.6 inch</td>\n",
       "      <td>HP</td>\n",
       "    </tr>\n",
       "    <tr>\n",
       "      <th>4</th>\n",
       "      <td>₹49,990</td>\n",
       "      <td>8 GB</td>\n",
       "      <td>DDR4</td>\n",
       "      <td>Intel Core i5 Processor</td>\n",
       "      <td>512 GB SSD</td>\n",
       "      <td>Windows 11</td>\n",
       "      <td>39.62 cm (15.6 inch</td>\n",
       "      <td>ASUS</td>\n",
       "    </tr>\n",
       "  </tbody>\n",
       "</table>\n",
       "</div>"
      ],
      "text/plain": [
       "       MRP Ram_Size Ram_Type                        Processor     Storage  \\\n",
       "0  ₹36,990     8 GB     DDR4          Intel Core i3 Processor  256 GB SSD   \n",
       "1  ₹39,990     8 GB     DDR4          Intel Core i3 Processor  512 GB SSD   \n",
       "2  ₹32,990     8 GB     DDR4          Intel Core i3 Processor  512 GB SSD   \n",
       "3  ₹49,990     8 GB     DDR4  AMD Ryzen 5 Hexa Core Processor  512 GB SSD   \n",
       "4  ₹49,990     8 GB     DDR4          Intel Core i5 Processor  512 GB SSD   \n",
       "\n",
       "           OS              Display   Brand  \n",
       "0  Windows 11    35.56 cm (14 inch  Lenovo  \n",
       "1  Windows 11  39.62 cm (15.6 inch  Lenovo  \n",
       "2  Windows 11  39.62 cm (15.6 inch    ASUS  \n",
       "3  Windows 10  39.62 cm (15.6 inch      HP  \n",
       "4  Windows 11  39.62 cm (15.6 inch    ASUS  "
      ]
     },
     "execution_count": 17,
     "metadata": {},
     "output_type": "execute_result"
    }
   ],
   "source": [
    "df.head()"
   ]
  },
  {
   "cell_type": "code",
   "execution_count": 18,
   "metadata": {
    "ExecuteTime": {
     "end_time": "2023-04-05T04:53:59.091147Z",
     "start_time": "2023-04-05T04:53:58.925873Z"
    },
    "colab": {
     "base_uri": "https://localhost:8080/"
    },
    "id": "zDcd__IXiZpW",
    "outputId": "90e6396b-cbd5-4aea-96bd-5cf89b33e9e0"
   },
   "outputs": [
    {
     "name": "stdout",
     "output_type": "stream",
     "text": [
      "<class 'pandas.core.frame.DataFrame'>\n",
      "Int64Index: 423 entries, 0 to 719\n",
      "Data columns (total 8 columns):\n",
      " #   Column     Non-Null Count  Dtype \n",
      "---  ------     --------------  ----- \n",
      " 0   MRP        423 non-null    object\n",
      " 1   Ram_Size   423 non-null    object\n",
      " 2   Ram_Type   423 non-null    object\n",
      " 3   Processor  423 non-null    object\n",
      " 4   Storage    423 non-null    object\n",
      " 5   OS         423 non-null    object\n",
      " 6   Display    423 non-null    object\n",
      " 7   Brand      423 non-null    object\n",
      "dtypes: object(8)\n",
      "memory usage: 29.7+ KB\n"
     ]
    }
   ],
   "source": [
    "df.info()"
   ]
  },
  {
   "cell_type": "code",
   "execution_count": 19,
   "metadata": {
    "ExecuteTime": {
     "end_time": "2023-04-05T04:53:59.246121Z",
     "start_time": "2023-04-05T04:53:59.105991Z"
    },
    "colab": {
     "base_uri": "https://localhost:8080/"
    },
    "id": "TaC3e7AWim4H",
    "outputId": "66203d68-0792-49d9-c586-a859b051e77d"
   },
   "outputs": [
    {
     "data": {
      "text/plain": [
       "MRP          0\n",
       "Ram_Size     0\n",
       "Ram_Type     0\n",
       "Processor    0\n",
       "Storage      0\n",
       "OS           0\n",
       "Display      0\n",
       "Brand        0\n",
       "dtype: int64"
      ]
     },
     "execution_count": 19,
     "metadata": {},
     "output_type": "execute_result"
    }
   ],
   "source": [
    "df.isnull().sum()"
   ]
  },
  {
   "cell_type": "code",
   "execution_count": 20,
   "metadata": {
    "ExecuteTime": {
     "end_time": "2023-04-05T04:53:59.415274Z",
     "start_time": "2023-04-05T04:53:59.256152Z"
    },
    "colab": {
     "base_uri": "https://localhost:8080/"
    },
    "id": "JnXPtL88ir6g",
    "outputId": "3a28b95f-4db5-4422-d413-4d3201ede8d3"
   },
   "outputs": [
    {
     "data": {
      "text/plain": [
       "14"
      ]
     },
     "execution_count": 20,
     "metadata": {},
     "output_type": "execute_result"
    }
   ],
   "source": [
    "df.duplicated().sum()"
   ]
  },
  {
   "cell_type": "code",
   "execution_count": 21,
   "metadata": {
    "ExecuteTime": {
     "end_time": "2023-04-05T04:53:59.546307Z",
     "start_time": "2023-04-05T04:53:59.426003Z"
    },
    "id": "G6JjcXNXwiOV"
   },
   "outputs": [],
   "source": [
    "df = df.drop_duplicates()"
   ]
  },
  {
   "cell_type": "code",
   "execution_count": 22,
   "metadata": {
    "ExecuteTime": {
     "end_time": "2023-04-05T04:53:59.796534Z",
     "start_time": "2023-04-05T04:53:59.556268Z"
    },
    "colab": {
     "base_uri": "https://localhost:8080/"
    },
    "id": "y-Bf0T6XiwZ2",
    "outputId": "79a93600-3dc2-4857-f58b-c0d9e9a0dc77"
   },
   "outputs": [],
   "source": [
    "df[\"Ram_Size\"]=df[\"Ram_Size\"].str.replace(\"GB\",\"\")\n",
    "df[\"Ram_Size\"]=df[\"Ram_Size\"].str.replace(\"TB\",\"000\")"
   ]
  },
  {
   "cell_type": "code",
   "execution_count": 23,
   "metadata": {
    "ExecuteTime": {
     "end_time": "2023-04-05T04:53:59.946165Z",
     "start_time": "2023-04-05T04:53:59.805944Z"
    },
    "colab": {
     "base_uri": "https://localhost:8080/"
    },
    "id": "Md0SZHUFjWvx",
    "outputId": "1048aedf-d187-4c3f-be97-d8b4c3d7fd0a"
   },
   "outputs": [],
   "source": [
    "df[\"Ram_Size\"]=df[\"Ram_Size\"].astype(\"int\")"
   ]
  },
  {
   "cell_type": "code",
   "execution_count": 24,
   "metadata": {
    "ExecuteTime": {
     "end_time": "2023-04-05T04:54:00.161218Z",
     "start_time": "2023-04-05T04:53:59.956200Z"
    },
    "colab": {
     "base_uri": "https://localhost:8080/",
     "height": 425
    },
    "id": "JprpPzokjfqS",
    "outputId": "2f46de53-7018-460c-f146-a88082bec0d9"
   },
   "outputs": [
    {
     "data": {
      "text/html": [
       "<div>\n",
       "<style scoped>\n",
       "    .dataframe tbody tr th:only-of-type {\n",
       "        vertical-align: middle;\n",
       "    }\n",
       "\n",
       "    .dataframe tbody tr th {\n",
       "        vertical-align: top;\n",
       "    }\n",
       "\n",
       "    .dataframe thead th {\n",
       "        text-align: right;\n",
       "    }\n",
       "</style>\n",
       "<table border=\"1\" class=\"dataframe\">\n",
       "  <thead>\n",
       "    <tr style=\"text-align: right;\">\n",
       "      <th></th>\n",
       "      <th>MRP</th>\n",
       "      <th>Ram_Size</th>\n",
       "      <th>Ram_Type</th>\n",
       "      <th>Processor</th>\n",
       "      <th>Storage</th>\n",
       "      <th>OS</th>\n",
       "      <th>Display</th>\n",
       "      <th>Brand</th>\n",
       "    </tr>\n",
       "  </thead>\n",
       "  <tbody>\n",
       "    <tr>\n",
       "      <th>0</th>\n",
       "      <td>36990</td>\n",
       "      <td>8</td>\n",
       "      <td>DDR4</td>\n",
       "      <td>Intel Core i3 Processor</td>\n",
       "      <td>256 GB SSD</td>\n",
       "      <td>Windows 11</td>\n",
       "      <td>35.56 cm (14 inch</td>\n",
       "      <td>Lenovo</td>\n",
       "    </tr>\n",
       "    <tr>\n",
       "      <th>1</th>\n",
       "      <td>39990</td>\n",
       "      <td>8</td>\n",
       "      <td>DDR4</td>\n",
       "      <td>Intel Core i3 Processor</td>\n",
       "      <td>512 GB SSD</td>\n",
       "      <td>Windows 11</td>\n",
       "      <td>39.62 cm (15.6 inch</td>\n",
       "      <td>Lenovo</td>\n",
       "    </tr>\n",
       "    <tr>\n",
       "      <th>2</th>\n",
       "      <td>32990</td>\n",
       "      <td>8</td>\n",
       "      <td>DDR4</td>\n",
       "      <td>Intel Core i3 Processor</td>\n",
       "      <td>512 GB SSD</td>\n",
       "      <td>Windows 11</td>\n",
       "      <td>39.62 cm (15.6 inch</td>\n",
       "      <td>ASUS</td>\n",
       "    </tr>\n",
       "    <tr>\n",
       "      <th>3</th>\n",
       "      <td>49990</td>\n",
       "      <td>8</td>\n",
       "      <td>DDR4</td>\n",
       "      <td>AMD Ryzen 5 Hexa Core Processor</td>\n",
       "      <td>512 GB SSD</td>\n",
       "      <td>Windows 10</td>\n",
       "      <td>39.62 cm (15.6 inch</td>\n",
       "      <td>HP</td>\n",
       "    </tr>\n",
       "    <tr>\n",
       "      <th>4</th>\n",
       "      <td>49990</td>\n",
       "      <td>8</td>\n",
       "      <td>DDR4</td>\n",
       "      <td>Intel Core i5 Processor</td>\n",
       "      <td>512 GB SSD</td>\n",
       "      <td>Windows 11</td>\n",
       "      <td>39.62 cm (15.6 inch</td>\n",
       "      <td>ASUS</td>\n",
       "    </tr>\n",
       "  </tbody>\n",
       "</table>\n",
       "</div>"
      ],
      "text/plain": [
       "     MRP  Ram_Size Ram_Type                        Processor     Storage  \\\n",
       "0  36990         8     DDR4          Intel Core i3 Processor  256 GB SSD   \n",
       "1  39990         8     DDR4          Intel Core i3 Processor  512 GB SSD   \n",
       "2  32990         8     DDR4          Intel Core i3 Processor  512 GB SSD   \n",
       "3  49990         8     DDR4  AMD Ryzen 5 Hexa Core Processor  512 GB SSD   \n",
       "4  49990         8     DDR4          Intel Core i5 Processor  512 GB SSD   \n",
       "\n",
       "           OS              Display   Brand  \n",
       "0  Windows 11    35.56 cm (14 inch  Lenovo  \n",
       "1  Windows 11  39.62 cm (15.6 inch  Lenovo  \n",
       "2  Windows 11  39.62 cm (15.6 inch    ASUS  \n",
       "3  Windows 10  39.62 cm (15.6 inch      HP  \n",
       "4  Windows 11  39.62 cm (15.6 inch    ASUS  "
      ]
     },
     "execution_count": 24,
     "metadata": {},
     "output_type": "execute_result"
    }
   ],
   "source": [
    "df['MRP'] = df['MRP'].str.replace('₹', '')\n",
    "df['MRP'] = df['MRP'].str.replace(',', '')\n",
    "\n",
    "df.head()"
   ]
  },
  {
   "cell_type": "code",
   "execution_count": 25,
   "metadata": {
    "ExecuteTime": {
     "end_time": "2023-04-05T04:54:00.216255Z",
     "start_time": "2023-04-05T04:54:00.166325Z"
    },
    "colab": {
     "base_uri": "https://localhost:8080/"
    },
    "id": "LfT5xfwGkui-",
    "outputId": "3fe063d2-a4c9-44ce-abc8-364430a88f50"
   },
   "outputs": [],
   "source": [
    "df['MRP'] = df['MRP'].astype('float')"
   ]
  },
  {
   "cell_type": "code",
   "execution_count": 26,
   "metadata": {
    "ExecuteTime": {
     "end_time": "2023-04-05T04:54:00.386276Z",
     "start_time": "2023-04-05T04:54:00.216255Z"
    },
    "colab": {
     "base_uri": "https://localhost:8080/"
    },
    "id": "l4MZVtzlk5xC",
    "outputId": "21404c05-54ec-41a5-f922-fcf8f9dab506"
   },
   "outputs": [
    {
     "name": "stdout",
     "output_type": "stream",
     "text": [
      "<class 'pandas.core.frame.DataFrame'>\n",
      "Int64Index: 409 entries, 0 to 719\n",
      "Data columns (total 8 columns):\n",
      " #   Column     Non-Null Count  Dtype  \n",
      "---  ------     --------------  -----  \n",
      " 0   MRP        409 non-null    float64\n",
      " 1   Ram_Size   409 non-null    int32  \n",
      " 2   Ram_Type   409 non-null    object \n",
      " 3   Processor  409 non-null    object \n",
      " 4   Storage    409 non-null    object \n",
      " 5   OS         409 non-null    object \n",
      " 6   Display    409 non-null    object \n",
      " 7   Brand      409 non-null    object \n",
      "dtypes: float64(1), int32(1), object(6)\n",
      "memory usage: 27.2+ KB\n"
     ]
    }
   ],
   "source": [
    "df.info()"
   ]
  },
  {
   "cell_type": "code",
   "execution_count": 27,
   "metadata": {
    "ExecuteTime": {
     "end_time": "2023-04-05T04:54:29.556651Z",
     "start_time": "2023-04-05T04:54:00.401201Z"
    },
    "id": "bF9EY5S1wybn"
   },
   "outputs": [],
   "source": [
    "import seaborn as sns\n",
    "import matplotlib.pyplot as plt"
   ]
  },
  {
   "cell_type": "code",
   "execution_count": 28,
   "metadata": {
    "ExecuteTime": {
     "end_time": "2023-04-05T04:54:32.356124Z",
     "start_time": "2023-04-05T04:54:29.616119Z"
    },
    "colab": {
     "base_uri": "https://localhost:8080/",
     "height": 515
    },
    "id": "KJFfShCdw-Oq",
    "outputId": "bc32dee0-6d26-455b-97cf-d0336eaf620f"
   },
   "outputs": [
    {
     "data": {
      "text/plain": [
       "<AxesSubplot:>"
      ]
     },
     "execution_count": 28,
     "metadata": {},
     "output_type": "execute_result"
    },
    {
     "data": {
      "image/png": "[encoded data removed]",
      "text/plain": [
       "<Figure size 640x480 with 1 Axes>"
      ]
     },
     "metadata": {},
     "output_type": "display_data"
    }
   ],
   "source": [
    "df[\"Brand\"].value_counts().plot(kind=\"bar\")"
   ]
  },
  {
   "cell_type": "code",
   "execution_count": 29,
   "metadata": {
    "ExecuteTime": {
     "end_time": "2023-04-05T04:54:33.295958Z",
     "start_time": "2023-04-05T04:54:32.366210Z"
    },
    "colab": {
     "base_uri": "https://localhost:8080/",
     "height": 684
    },
    "id": "rbfz8Mn7yUC3",
    "outputId": "cb133a03-619e-4c02-f90c-9b1d9074e375"
   },
   "outputs": [
    {
     "name": "stderr",
     "output_type": "stream",
     "text": [
      "C:\\Users\\Lenovo\\anaconda3\\lib\\site-packages\\seaborn\\distributions.py:2619: FutureWarning: `distplot` is a deprecated function and will be removed in a future version. Please adapt your code to use either `displot` (a figure-level function with similar flexibility) or `histplot` (an axes-level function for histograms).\n",
      "  warnings.warn(msg, FutureWarning)\n"
     ]
    },
    {
     "data": {
      "text/plain": [
       "<AxesSubplot:xlabel='MRP', ylabel='Density'>"
      ]
     },
     "execution_count": 29,
     "metadata": {},
     "output_type": "execute_result"
    },
    {
     "data": {
      "image/png": "[encoded data removed]",
      "text/plain": [
       "<Figure size 640x480 with 1 Axes>"
      ]
     },
     "metadata": {},
     "output_type": "display_data"
    }
   ],
   "source": [
    "sns.distplot(df[\"MRP\"])"
   ]
  },
  {
   "cell_type": "code",
   "execution_count": 30,
   "metadata": {
    "ExecuteTime": {
     "end_time": "2023-04-05T04:54:33.326210Z",
     "start_time": "2023-04-05T04:54:33.298395Z"
    },
    "id": "q8rVqaKpybY_"
   },
   "outputs": [],
   "source": [
    "df['Display'] = df['Display'].apply(lambda x: re.sub(r'^\\d+\\.\\d+ cm \\(', '', x)).apply(lambda x: re.sub(r' inch\\)$', '', x)) "
   ]
  },
  {
   "cell_type": "code",
   "execution_count": 31,
   "metadata": {
    "ExecuteTime": {
     "end_time": "2023-04-05T04:54:35.116179Z",
     "start_time": "2023-04-05T04:54:33.331220Z"
    },
    "colab": {
     "base_uri": "https://localhost:8080/",
     "height": 423
    },
    "id": "CAMX-9NizTYv",
    "outputId": "1fe409f1-89c8-49a9-aa29-a089e20e3dd6"
   },
   "outputs": [
    {
     "data": {
      "text/html": [
       "<div>\n",
       "<style scoped>\n",
       "    .dataframe tbody tr th:only-of-type {\n",
       "        vertical-align: middle;\n",
       "    }\n",
       "\n",
       "    .dataframe tbody tr th {\n",
       "        vertical-align: top;\n",
       "    }\n",
       "\n",
       "    .dataframe thead th {\n",
       "        text-align: right;\n",
       "    }\n",
       "</style>\n",
       "<table border=\"1\" class=\"dataframe\">\n",
       "  <thead>\n",
       "    <tr style=\"text-align: right;\">\n",
       "      <th></th>\n",
       "      <th>MRP</th>\n",
       "      <th>Ram_Size</th>\n",
       "      <th>Ram_Type</th>\n",
       "      <th>Processor</th>\n",
       "      <th>Storage</th>\n",
       "      <th>OS</th>\n",
       "      <th>Display</th>\n",
       "      <th>Brand</th>\n",
       "    </tr>\n",
       "  </thead>\n",
       "  <tbody>\n",
       "    <tr>\n",
       "      <th>0</th>\n",
       "      <td>36990.0</td>\n",
       "      <td>8</td>\n",
       "      <td>DDR4</td>\n",
       "      <td>Intel Core i3 Processor</td>\n",
       "      <td>256 GB SSD</td>\n",
       "      <td>Windows 11</td>\n",
       "      <td>14 inch</td>\n",
       "      <td>Lenovo</td>\n",
       "    </tr>\n",
       "    <tr>\n",
       "      <th>1</th>\n",
       "      <td>39990.0</td>\n",
       "      <td>8</td>\n",
       "      <td>DDR4</td>\n",
       "      <td>Intel Core i3 Processor</td>\n",
       "      <td>512 GB SSD</td>\n",
       "      <td>Windows 11</td>\n",
       "      <td>15.6 inch</td>\n",
       "      <td>Lenovo</td>\n",
       "    </tr>\n",
       "    <tr>\n",
       "      <th>2</th>\n",
       "      <td>32990.0</td>\n",
       "      <td>8</td>\n",
       "      <td>DDR4</td>\n",
       "      <td>Intel Core i3 Processor</td>\n",
       "      <td>512 GB SSD</td>\n",
       "      <td>Windows 11</td>\n",
       "      <td>15.6 inch</td>\n",
       "      <td>ASUS</td>\n",
       "    </tr>\n",
       "    <tr>\n",
       "      <th>3</th>\n",
       "      <td>49990.0</td>\n",
       "      <td>8</td>\n",
       "      <td>DDR4</td>\n",
       "      <td>AMD Ryzen 5 Hexa Core Processor</td>\n",
       "      <td>512 GB SSD</td>\n",
       "      <td>Windows 10</td>\n",
       "      <td>15.6 inch</td>\n",
       "      <td>HP</td>\n",
       "    </tr>\n",
       "    <tr>\n",
       "      <th>4</th>\n",
       "      <td>49990.0</td>\n",
       "      <td>8</td>\n",
       "      <td>DDR4</td>\n",
       "      <td>Intel Core i5 Processor</td>\n",
       "      <td>512 GB SSD</td>\n",
       "      <td>Windows 11</td>\n",
       "      <td>15.6 inch</td>\n",
       "      <td>ASUS</td>\n",
       "    </tr>\n",
       "    <tr>\n",
       "      <th>...</th>\n",
       "      <td>...</td>\n",
       "      <td>...</td>\n",
       "      <td>...</td>\n",
       "      <td>...</td>\n",
       "      <td>...</td>\n",
       "      <td>...</td>\n",
       "      <td>...</td>\n",
       "      <td>...</td>\n",
       "    </tr>\n",
       "    <tr>\n",
       "      <th>713</th>\n",
       "      <td>76590.0</td>\n",
       "      <td>16</td>\n",
       "      <td>DDR5</td>\n",
       "      <td>Intel Core i5 Processor</td>\n",
       "      <td>512 GB SSD</td>\n",
       "      <td>Windows 11</td>\n",
       "      <td>13.3</td>\n",
       "      <td>DELL</td>\n",
       "    </tr>\n",
       "    <tr>\n",
       "      <th>714</th>\n",
       "      <td>90000.0</td>\n",
       "      <td>16</td>\n",
       "      <td>DDR4</td>\n",
       "      <td>AMD Ryzen 7 Octa Core Processor</td>\n",
       "      <td>512 GB SSD</td>\n",
       "      <td>Windows 10</td>\n",
       "      <td>15.6 inch</td>\n",
       "      <td>HP</td>\n",
       "    </tr>\n",
       "    <tr>\n",
       "      <th>715</th>\n",
       "      <td>23490.0</td>\n",
       "      <td>4</td>\n",
       "      <td>LPDDR4</td>\n",
       "      <td>Intel Celeron Dual Core Processor</td>\n",
       "      <td>64 GB EMMC</td>\n",
       "      <td>Chrome</td>\n",
       "      <td>11.6 inch</td>\n",
       "      <td>ASUS</td>\n",
       "    </tr>\n",
       "    <tr>\n",
       "      <th>718</th>\n",
       "      <td>125990.0</td>\n",
       "      <td>16</td>\n",
       "      <td>LPDDR5</td>\n",
       "      <td>Intel Core i7 Processor</td>\n",
       "      <td>512 GB SSD</td>\n",
       "      <td>Windows 11</td>\n",
       "      <td>14 inch</td>\n",
       "      <td>ASUS</td>\n",
       "    </tr>\n",
       "    <tr>\n",
       "      <th>719</th>\n",
       "      <td>50990.0</td>\n",
       "      <td>8</td>\n",
       "      <td>DDR4</td>\n",
       "      <td>Intel Core i5 Processor</td>\n",
       "      <td>1 TB HDD</td>\n",
       "      <td>Windows 10</td>\n",
       "      <td>15.6 inch</td>\n",
       "      <td>Lenovo</td>\n",
       "    </tr>\n",
       "  </tbody>\n",
       "</table>\n",
       "<p>409 rows × 8 columns</p>\n",
       "</div>"
      ],
      "text/plain": [
       "          MRP  Ram_Size Ram_Type                          Processor  \\\n",
       "0     36990.0         8     DDR4            Intel Core i3 Processor   \n",
       "1     39990.0         8     DDR4            Intel Core i3 Processor   \n",
       "2     32990.0         8     DDR4            Intel Core i3 Processor   \n",
       "3     49990.0         8     DDR4    AMD Ryzen 5 Hexa Core Processor   \n",
       "4     49990.0         8     DDR4            Intel Core i5 Processor   \n",
       "..        ...       ...      ...                                ...   \n",
       "713   76590.0        16     DDR5            Intel Core i5 Processor   \n",
       "714   90000.0        16     DDR4    AMD Ryzen 7 Octa Core Processor   \n",
       "715   23490.0         4   LPDDR4  Intel Celeron Dual Core Processor   \n",
       "718  125990.0        16   LPDDR5            Intel Core i7 Processor   \n",
       "719   50990.0         8     DDR4            Intel Core i5 Processor   \n",
       "\n",
       "        Storage          OS    Display   Brand  \n",
       "0    256 GB SSD  Windows 11    14 inch  Lenovo  \n",
       "1    512 GB SSD  Windows 11  15.6 inch  Lenovo  \n",
       "2    512 GB SSD  Windows 11  15.6 inch    ASUS  \n",
       "3    512 GB SSD  Windows 10  15.6 inch      HP  \n",
       "4    512 GB SSD  Windows 11  15.6 inch    ASUS  \n",
       "..          ...         ...        ...     ...  \n",
       "713  512 GB SSD  Windows 11      13.3     DELL  \n",
       "714  512 GB SSD  Windows 10  15.6 inch      HP  \n",
       "715  64 GB EMMC      Chrome  11.6 inch    ASUS  \n",
       "718  512 GB SSD  Windows 11    14 inch    ASUS  \n",
       "719    1 TB HDD  Windows 10  15.6 inch  Lenovo  \n",
       "\n",
       "[409 rows x 8 columns]"
      ]
     },
     "execution_count": 31,
     "metadata": {},
     "output_type": "execute_result"
    }
   ],
   "source": [
    "df"
   ]
  },
  {
   "cell_type": "code",
   "execution_count": 32,
   "metadata": {
    "ExecuteTime": {
     "end_time": "2023-04-05T04:54:35.205567Z",
     "start_time": "2023-04-05T04:54:35.124101Z"
    },
    "id": "UZngMuUf2nL1"
   },
   "outputs": [],
   "source": [
    "df['Display'] = df['Display'].str.replace('inch 2','')"
   ]
  },
  {
   "cell_type": "code",
   "execution_count": 33,
   "metadata": {
    "ExecuteTime": {
     "end_time": "2023-04-05T04:54:35.366463Z",
     "start_time": "2023-04-05T04:54:35.205567Z"
    },
    "id": "ApxcNbwq4A3a"
   },
   "outputs": [],
   "source": [
    "df['Display'] = df['Display'].str.replace('inch', '')"
   ]
  },
  {
   "cell_type": "code",
   "execution_count": 34,
   "metadata": {
    "ExecuteTime": {
     "end_time": "2023-04-05T04:54:35.536388Z",
     "start_time": "2023-04-05T04:54:35.376124Z"
    },
    "id": "4Ekw6-8D4gni"
   },
   "outputs": [],
   "source": [
    "df['Display'] = df['Display'].str.replace('cm', '') "
   ]
  },
  {
   "cell_type": "code",
   "execution_count": 35,
   "metadata": {
    "ExecuteTime": {
     "end_time": "2023-04-05T04:54:35.686175Z",
     "start_time": "2023-04-05T04:54:35.549908Z"
    },
    "id": "21nuc-BO27mz"
   },
   "outputs": [],
   "source": [
    "df['Display'] = df['Display'].astype('float')"
   ]
  },
  {
   "cell_type": "code",
   "execution_count": 36,
   "metadata": {
    "ExecuteTime": {
     "end_time": "2023-04-05T04:54:35.896436Z",
     "start_time": "2023-04-05T04:54:35.696024Z"
    },
    "colab": {
     "base_uri": "https://localhost:8080/"
    },
    "id": "tgaxKGrC4x5l",
    "outputId": "20f32966-cc01-420f-c18e-f3144c5b9e2f"
   },
   "outputs": [
    {
     "name": "stdout",
     "output_type": "stream",
     "text": [
      "<class 'pandas.core.frame.DataFrame'>\n",
      "Int64Index: 409 entries, 0 to 719\n",
      "Data columns (total 8 columns):\n",
      " #   Column     Non-Null Count  Dtype  \n",
      "---  ------     --------------  -----  \n",
      " 0   MRP        409 non-null    float64\n",
      " 1   Ram_Size   409 non-null    int32  \n",
      " 2   Ram_Type   409 non-null    object \n",
      " 3   Processor  409 non-null    object \n",
      " 4   Storage    409 non-null    object \n",
      " 5   OS         409 non-null    object \n",
      " 6   Display    409 non-null    float64\n",
      " 7   Brand      409 non-null    object \n",
      "dtypes: float64(2), int32(1), object(5)\n",
      "memory usage: 27.2+ KB\n"
     ]
    }
   ],
   "source": [
    "df.info()"
   ]
  },
  {
   "cell_type": "code",
   "execution_count": 37,
   "metadata": {
    "ExecuteTime": {
     "end_time": "2023-04-05T04:54:38.775938Z",
     "start_time": "2023-04-05T04:54:35.906103Z"
    },
    "colab": {
     "base_uri": "https://localhost:8080/",
     "height": 465
    },
    "id": "_tJC1M6NxItg",
    "outputId": "7b7cf6bd-b2ad-4cad-bbc0-7a62d3f54360"
   },
   "outputs": [
    {
     "data": {
      "image/png": "[encoded data removed]",
      "text/plain": [
       "<Figure size 1500x500 with 1 Axes>"
      ]
     },
     "metadata": {},
     "output_type": "display_data"
    }
   ],
   "source": [
    "plt.figure(figsize=[15,5])\n",
    "sns.barplot(x=df[\"Brand\"],y=df[\"MRP\"])\n",
    "plt.show()"
   ]
  },
  {
   "cell_type": "code",
   "execution_count": 38,
   "metadata": {
    "ExecuteTime": {
     "end_time": "2023-04-05T04:54:39.455227Z",
     "start_time": "2023-04-05T04:54:38.778839Z"
    },
    "colab": {
     "base_uri": "https://localhost:8080/",
     "height": 649
    },
    "id": "cZ2PUh1V6w1W",
    "outputId": "cb83f712-6ec8-4143-c3c6-e5e14beea7c0"
   },
   "outputs": [
    {
     "name": "stderr",
     "output_type": "stream",
     "text": [
      "C:\\Users\\Lenovo\\anaconda3\\lib\\site-packages\\seaborn\\distributions.py:2619: FutureWarning: `distplot` is a deprecated function and will be removed in a future version. Please adapt your code to use either `displot` (a figure-level function with similar flexibility) or `histplot` (an axes-level function for histograms).\n",
      "  warnings.warn(msg, FutureWarning)\n"
     ]
    },
    {
     "data": {
      "text/plain": [
       "<AxesSubplot:ylabel='Density'>"
      ]
     },
     "execution_count": 38,
     "metadata": {},
     "output_type": "execute_result"
    },
    {
     "data": {
      "image/png": "[encoded data removed]",
      "text/plain": [
       "<Figure size 640x480 with 1 Axes>"
      ]
     },
     "metadata": {},
     "output_type": "display_data"
    }
   ],
   "source": [
    "sns.distplot(x=df[\"Display\"])"
   ]
  },
  {
   "cell_type": "code",
   "execution_count": 39,
   "metadata": {
    "ExecuteTime": {
     "end_time": "2023-04-05T04:54:39.493026Z",
     "start_time": "2023-04-05T04:54:39.456285Z"
    },
    "colab": {
     "base_uri": "https://localhost:8080/"
    },
    "id": "YmjtJBM668oU",
    "outputId": "d0e60bbc-6e5b-43ea-cd5a-5f435a9ca57a"
   },
   "outputs": [
    {
     "data": {
      "text/plain": [
       "MRP         1.000000\n",
       "Ram_Size    0.497122\n",
       "Display     0.128158\n",
       "Name: MRP, dtype: float64"
      ]
     },
     "execution_count": 39,
     "metadata": {},
     "output_type": "execute_result"
    }
   ],
   "source": [
    "df.corr()['MRP']"
   ]
  },
  {
   "cell_type": "code",
   "execution_count": 40,
   "metadata": {
    "ExecuteTime": {
     "end_time": "2023-04-05T04:54:40.006124Z",
     "start_time": "2023-04-05T04:54:39.496099Z"
    },
    "colab": {
     "base_uri": "https://localhost:8080/"
    },
    "id": "-wrAO0v17oQM",
    "outputId": "5779d3da-c388-4637-ccb5-3b4283fa4d3a"
   },
   "outputs": [
    {
     "data": {
      "text/plain": [
       "512 GB SSD     215\n",
       "1 TB SSD        69\n",
       "256 GB SSD      62\n",
       "1 TB HDD        43\n",
       "64 GB EMMC       6\n",
       "2 TB SSD         6\n",
       "128 GB SSD       4\n",
       "128 GB EMMC      2\n",
       "256 GB HDD       1\n",
       "32 GB EMMC       1\n",
       "Name: Storage, dtype: int64"
      ]
     },
     "execution_count": 40,
     "metadata": {},
     "output_type": "execute_result"
    }
   ],
   "source": [
    "df['Storage'].value_counts()"
   ]
  },
  {
   "cell_type": "code",
   "execution_count": 41,
   "metadata": {
    "ExecuteTime": {
     "end_time": "2023-04-05T04:54:40.306134Z",
     "start_time": "2023-04-05T04:54:40.016252Z"
    },
    "colab": {
     "base_uri": "https://localhost:8080/"
    },
    "id": "cI_9Jzpnk8Fy",
    "outputId": "67301c81-8c7c-4a06-e458-3e8a52a74665"
   },
   "outputs": [
    {
     "name": "stderr",
     "output_type": "stream",
     "text": [
      "C:\\Users\\Lenovo\\AppData\\Local\\Temp\\ipykernel_9584\\855820707.py:13: FutureWarning: The default value of regex will change from True to False in a future version.\n",
      "  df['first'] = df['first'].str.replace(r'\\D', '')\n"
     ]
    }
   ],
   "source": [
    "df['Storage'] = df['Storage'].astype(str).replace('\\.0', '', regex=True)\n",
    "df[\"Storage\"] = df[\"Storage\"].str.replace('GB', '')\n",
    "df[\"Storage\"] = df[\"Storage\"].str.replace('TB', '000')\n",
    "new = df[\"Storage\"].str.split(\"+\", n = 1, expand = True)\n",
    "\n",
    "df[\"first\"]= new[0]\n",
    "df[\"first\"]=df[\"first\"].str.strip()\n",
    "\n",
    "df[\"Layer1HDD\"] = df[\"first\"].apply(lambda x: 1 if \"HDD\" in x else 0)\n",
    "df[\"Layer1SSD\"] = df[\"first\"].apply(lambda x: 1 if \"SSD\" in x else 0)\n",
    "df[\"Layer1EMMC\"] = df[\"first\"].apply(lambda x: 1 if \"EMMC\" in x else 0)\n",
    "\n",
    "df['first'] = df['first'].str.replace(r'\\D', '')\n",
    "\n",
    "df[\"first\"] = df[\"first\"].astype(int)\n",
    "\n",
    "df[\"HDD\"]=(df[\"first\"]*df[\"Layer1HDD\"])\n",
    "df[\"SSD\"]=(df[\"first\"]*df[\"Layer1SSD\"])\n",
    "df[\"EMMC\"]=(df[\"first\"]*df[\"Layer1EMMC\"])\n",
    "\n",
    "df.drop(columns=['first','Layer1HDD', 'Layer1SSD', 'Layer1EMMC'],inplace=True) "
   ]
  },
  {
   "cell_type": "code",
   "execution_count": 42,
   "metadata": {
    "ExecuteTime": {
     "end_time": "2023-04-05T04:54:40.436096Z",
     "start_time": "2023-04-05T04:54:40.321205Z"
    },
    "colab": {
     "base_uri": "https://localhost:8080/",
     "height": 206
    },
    "id": "qxeSW3cQqQxZ",
    "outputId": "2c2c700b-6fc0-4f12-ae2c-13a18682f58a"
   },
   "outputs": [
    {
     "data": {
      "text/html": [
       "<div>\n",
       "<style scoped>\n",
       "    .dataframe tbody tr th:only-of-type {\n",
       "        vertical-align: middle;\n",
       "    }\n",
       "\n",
       "    .dataframe tbody tr th {\n",
       "        vertical-align: top;\n",
       "    }\n",
       "\n",
       "    .dataframe thead th {\n",
       "        text-align: right;\n",
       "    }\n",
       "</style>\n",
       "<table border=\"1\" class=\"dataframe\">\n",
       "  <thead>\n",
       "    <tr style=\"text-align: right;\">\n",
       "      <th></th>\n",
       "      <th>MRP</th>\n",
       "      <th>Ram_Size</th>\n",
       "      <th>Ram_Type</th>\n",
       "      <th>Processor</th>\n",
       "      <th>Storage</th>\n",
       "      <th>OS</th>\n",
       "      <th>Display</th>\n",
       "      <th>Brand</th>\n",
       "      <th>HDD</th>\n",
       "      <th>SSD</th>\n",
       "      <th>EMMC</th>\n",
       "    </tr>\n",
       "  </thead>\n",
       "  <tbody>\n",
       "    <tr>\n",
       "      <th>0</th>\n",
       "      <td>36990.0</td>\n",
       "      <td>8</td>\n",
       "      <td>DDR4</td>\n",
       "      <td>Intel Core i3 Processor</td>\n",
       "      <td>256  SSD</td>\n",
       "      <td>Windows 11</td>\n",
       "      <td>14.0</td>\n",
       "      <td>Lenovo</td>\n",
       "      <td>0</td>\n",
       "      <td>256</td>\n",
       "      <td>0</td>\n",
       "    </tr>\n",
       "    <tr>\n",
       "      <th>1</th>\n",
       "      <td>39990.0</td>\n",
       "      <td>8</td>\n",
       "      <td>DDR4</td>\n",
       "      <td>Intel Core i3 Processor</td>\n",
       "      <td>512  SSD</td>\n",
       "      <td>Windows 11</td>\n",
       "      <td>15.6</td>\n",
       "      <td>Lenovo</td>\n",
       "      <td>0</td>\n",
       "      <td>512</td>\n",
       "      <td>0</td>\n",
       "    </tr>\n",
       "    <tr>\n",
       "      <th>2</th>\n",
       "      <td>32990.0</td>\n",
       "      <td>8</td>\n",
       "      <td>DDR4</td>\n",
       "      <td>Intel Core i3 Processor</td>\n",
       "      <td>512  SSD</td>\n",
       "      <td>Windows 11</td>\n",
       "      <td>15.6</td>\n",
       "      <td>ASUS</td>\n",
       "      <td>0</td>\n",
       "      <td>512</td>\n",
       "      <td>0</td>\n",
       "    </tr>\n",
       "    <tr>\n",
       "      <th>3</th>\n",
       "      <td>49990.0</td>\n",
       "      <td>8</td>\n",
       "      <td>DDR4</td>\n",
       "      <td>AMD Ryzen 5 Hexa Core Processor</td>\n",
       "      <td>512  SSD</td>\n",
       "      <td>Windows 10</td>\n",
       "      <td>15.6</td>\n",
       "      <td>HP</td>\n",
       "      <td>0</td>\n",
       "      <td>512</td>\n",
       "      <td>0</td>\n",
       "    </tr>\n",
       "    <tr>\n",
       "      <th>4</th>\n",
       "      <td>49990.0</td>\n",
       "      <td>8</td>\n",
       "      <td>DDR4</td>\n",
       "      <td>Intel Core i5 Processor</td>\n",
       "      <td>512  SSD</td>\n",
       "      <td>Windows 11</td>\n",
       "      <td>15.6</td>\n",
       "      <td>ASUS</td>\n",
       "      <td>0</td>\n",
       "      <td>512</td>\n",
       "      <td>0</td>\n",
       "    </tr>\n",
       "  </tbody>\n",
       "</table>\n",
       "</div>"
      ],
      "text/plain": [
       "       MRP  Ram_Size Ram_Type                        Processor   Storage  \\\n",
       "0  36990.0         8     DDR4          Intel Core i3 Processor  256  SSD   \n",
       "1  39990.0         8     DDR4          Intel Core i3 Processor  512  SSD   \n",
       "2  32990.0         8     DDR4          Intel Core i3 Processor  512  SSD   \n",
       "3  49990.0         8     DDR4  AMD Ryzen 5 Hexa Core Processor  512  SSD   \n",
       "4  49990.0         8     DDR4          Intel Core i5 Processor  512  SSD   \n",
       "\n",
       "           OS  Display   Brand  HDD  SSD  EMMC  \n",
       "0  Windows 11     14.0  Lenovo    0  256     0  \n",
       "1  Windows 11     15.6  Lenovo    0  512     0  \n",
       "2  Windows 11     15.6    ASUS    0  512     0  \n",
       "3  Windows 10     15.6      HP    0  512     0  \n",
       "4  Windows 11     15.6    ASUS    0  512     0  "
      ]
     },
     "execution_count": 42,
     "metadata": {},
     "output_type": "execute_result"
    }
   ],
   "source": [
    "df.head()"
   ]
  },
  {
   "cell_type": "code",
   "execution_count": 43,
   "metadata": {
    "ExecuteTime": {
     "end_time": "2023-04-05T04:54:40.505306Z",
     "start_time": "2023-04-05T04:54:40.439745Z"
    },
    "id": "RU7T3NLmrGh8"
   },
   "outputs": [],
   "source": [
    "df.drop(columns=['Storage'],inplace=True)"
   ]
  },
  {
   "cell_type": "code",
   "execution_count": 44,
   "metadata": {
    "ExecuteTime": {
     "end_time": "2023-04-05T04:54:40.696739Z",
     "start_time": "2023-04-05T04:54:40.505306Z"
    },
    "colab": {
     "base_uri": "https://localhost:8080/"
    },
    "id": "W7OZ3i80rRy6",
    "outputId": "22466b36-67a9-4548-9359-20fc8847de56"
   },
   "outputs": [
    {
     "name": "stdout",
     "output_type": "stream",
     "text": [
      "<class 'pandas.core.frame.DataFrame'>\n",
      "Int64Index: 409 entries, 0 to 719\n",
      "Data columns (total 10 columns):\n",
      " #   Column     Non-Null Count  Dtype  \n",
      "---  ------     --------------  -----  \n",
      " 0   MRP        409 non-null    float64\n",
      " 1   Ram_Size   409 non-null    int32  \n",
      " 2   Ram_Type   409 non-null    object \n",
      " 3   Processor  409 non-null    object \n",
      " 4   OS         409 non-null    object \n",
      " 5   Display    409 non-null    float64\n",
      " 6   Brand      409 non-null    object \n",
      " 7   HDD        409 non-null    int64  \n",
      " 8   SSD        409 non-null    int64  \n",
      " 9   EMMC       409 non-null    int64  \n",
      "dtypes: float64(2), int32(1), int64(3), object(4)\n",
      "memory usage: 33.6+ KB\n"
     ]
    }
   ],
   "source": [
    "df.info()"
   ]
  },
  {
   "cell_type": "code",
   "execution_count": 45,
   "metadata": {
    "ExecuteTime": {
     "end_time": "2023-04-05T04:54:40.836129Z",
     "start_time": "2023-04-05T04:54:40.711271Z"
    },
    "colab": {
     "base_uri": "https://localhost:8080/"
    },
    "id": "V7hCs0FxrUkQ",
    "outputId": "caeb6f95-e1e8-4324-bb1e-9d6e666b4f36"
   },
   "outputs": [
    {
     "data": {
      "text/plain": [
       "Intel Core i5 Processor                   108\n",
       "Intel Core i3 Processor                    69\n",
       "Intel Core i7 Processor                    51\n",
       "AMD Ryzen 5 Hexa Core Processor            41\n",
       "AMD Ryzen 7 Octa Core Processor            37\n",
       "Intel Celeron Dual Core Processor          18\n",
       "AMD Ryzen 3 Dual Core Processor            17\n",
       "AMD Ryzen 9 Octa Core Processor            15\n",
       "Intel Core i9 Processor                    11\n",
       "AMD Ryzen 5 Quad Core Processor             8\n",
       "Apple M1 Processor                          5\n",
       "Apple M1 Pro Processor                      4\n",
       "Apple M2 Processor                          3\n",
       "Intel Pentium Silver Processor              3\n",
       "AMD Ryzen 3 Quad Core Processor             3\n",
       "Intel Celeron Quad Core Processor           2\n",
       "AMD Athlon Dual Core Processor              2\n",
       "Intel OptaneIntel Core i3 Processor         2\n",
       "AMD Ryzen 5 Dual Core Processor             2\n",
       "Intel Pentium Quad Core Processor           2\n",
       "Intel Evo Core i5 Processor                 1\n",
       "Qualcomm Snapdragon 7c Gen 2 Processor      1\n",
       "AMD Ryzen 7 Quad Core Processor             1\n",
       "Apple M1 Max Processor                      1\n",
       "AMD Dual Core Processor                     1\n",
       "AMD Ryzen 3 Hexa Core Processor             1\n",
       "Name: Processor, dtype: int64"
      ]
     },
     "execution_count": 45,
     "metadata": {},
     "output_type": "execute_result"
    }
   ],
   "source": [
    "df[\"Processor\"].value_counts()"
   ]
  },
  {
   "cell_type": "code",
   "execution_count": 46,
   "metadata": {
    "ExecuteTime": {
     "end_time": "2023-04-05T04:54:40.955245Z",
     "start_time": "2023-04-05T04:54:40.845982Z"
    },
    "id": "mmAeG-dBsJY4"
   },
   "outputs": [],
   "source": [
    "def fetch_processor(text):\n",
    "    if text == 'Intel Core i7 Processor' or text == 'Intel Core i5 Processor' or text == 'Intel Core i3 Processor':\n",
    "      return text\n",
    "    elif text.split()[0] == 'Intel':\n",
    "      return 'Other Intel Processor'\n",
    "    elif text.split()[0] == 'Apple':\n",
    "      return 'Apple Processor'\n",
    "    elif text.split()[0] == 'Qualcomm':\n",
    "      return 'Qualcomm processor'\n",
    "    else:\n",
    "      return 'AMD Processor' "
   ]
  },
  {
   "cell_type": "code",
   "execution_count": 47,
   "metadata": {
    "ExecuteTime": {
     "end_time": "2023-04-05T04:54:41.106448Z",
     "start_time": "2023-04-05T04:54:40.966105Z"
    },
    "id": "azRPyLPVte2H"
   },
   "outputs": [],
   "source": [
    "df['CPU_brand'] = df['Processor'].apply(fetch_processor)"
   ]
  },
  {
   "cell_type": "code",
   "execution_count": 48,
   "metadata": {
    "ExecuteTime": {
     "end_time": "2023-04-05T04:54:41.724089Z",
     "start_time": "2023-04-05T04:54:41.116095Z"
    },
    "colab": {
     "base_uri": "https://localhost:8080/",
     "height": 589
    },
    "id": "oNfP2iLDtsVr",
    "outputId": "2e1f211b-ce5d-405f-8813-f9e7c36c77af"
   },
   "outputs": [
    {
     "data": {
      "text/plain": [
       "<AxesSubplot:>"
      ]
     },
     "execution_count": 48,
     "metadata": {},
     "output_type": "execute_result"
    },
    {
     "data": {
      "image/png": "[encoded data removed]",
      "text/plain": [
       "<Figure size 640x480 with 1 Axes>"
      ]
     },
     "metadata": {},
     "output_type": "display_data"
    }
   ],
   "source": [
    "df['CPU_brand'].value_counts().plot(kind='bar')"
   ]
  },
  {
   "cell_type": "code",
   "execution_count": 49,
   "metadata": {
    "ExecuteTime": {
     "end_time": "2023-04-05T04:54:41.785064Z",
     "start_time": "2023-04-05T04:54:41.725929Z"
    },
    "colab": {
     "base_uri": "https://localhost:8080/",
     "height": 206
    },
    "id": "ft07834Qtz6F",
    "outputId": "14be250a-9983-4349-d7d3-ade8b226f642"
   },
   "outputs": [
    {
     "data": {
      "text/html": [
       "<div>\n",
       "<style scoped>\n",
       "    .dataframe tbody tr th:only-of-type {\n",
       "        vertical-align: middle;\n",
       "    }\n",
       "\n",
       "    .dataframe tbody tr th {\n",
       "        vertical-align: top;\n",
       "    }\n",
       "\n",
       "    .dataframe thead th {\n",
       "        text-align: right;\n",
       "    }\n",
       "</style>\n",
       "<table border=\"1\" class=\"dataframe\">\n",
       "  <thead>\n",
       "    <tr style=\"text-align: right;\">\n",
       "      <th></th>\n",
       "      <th>MRP</th>\n",
       "      <th>Ram_Size</th>\n",
       "      <th>Ram_Type</th>\n",
       "      <th>Processor</th>\n",
       "      <th>OS</th>\n",
       "      <th>Display</th>\n",
       "      <th>Brand</th>\n",
       "      <th>HDD</th>\n",
       "      <th>SSD</th>\n",
       "      <th>EMMC</th>\n",
       "      <th>CPU_brand</th>\n",
       "    </tr>\n",
       "  </thead>\n",
       "  <tbody>\n",
       "    <tr>\n",
       "      <th>0</th>\n",
       "      <td>36990.0</td>\n",
       "      <td>8</td>\n",
       "      <td>DDR4</td>\n",
       "      <td>Intel Core i3 Processor</td>\n",
       "      <td>Windows 11</td>\n",
       "      <td>14.0</td>\n",
       "      <td>Lenovo</td>\n",
       "      <td>0</td>\n",
       "      <td>256</td>\n",
       "      <td>0</td>\n",
       "      <td>Intel Core i3 Processor</td>\n",
       "    </tr>\n",
       "    <tr>\n",
       "      <th>1</th>\n",
       "      <td>39990.0</td>\n",
       "      <td>8</td>\n",
       "      <td>DDR4</td>\n",
       "      <td>Intel Core i3 Processor</td>\n",
       "      <td>Windows 11</td>\n",
       "      <td>15.6</td>\n",
       "      <td>Lenovo</td>\n",
       "      <td>0</td>\n",
       "      <td>512</td>\n",
       "      <td>0</td>\n",
       "      <td>Intel Core i3 Processor</td>\n",
       "    </tr>\n",
       "    <tr>\n",
       "      <th>2</th>\n",
       "      <td>32990.0</td>\n",
       "      <td>8</td>\n",
       "      <td>DDR4</td>\n",
       "      <td>Intel Core i3 Processor</td>\n",
       "      <td>Windows 11</td>\n",
       "      <td>15.6</td>\n",
       "      <td>ASUS</td>\n",
       "      <td>0</td>\n",
       "      <td>512</td>\n",
       "      <td>0</td>\n",
       "      <td>Intel Core i3 Processor</td>\n",
       "    </tr>\n",
       "    <tr>\n",
       "      <th>3</th>\n",
       "      <td>49990.0</td>\n",
       "      <td>8</td>\n",
       "      <td>DDR4</td>\n",
       "      <td>AMD Ryzen 5 Hexa Core Processor</td>\n",
       "      <td>Windows 10</td>\n",
       "      <td>15.6</td>\n",
       "      <td>HP</td>\n",
       "      <td>0</td>\n",
       "      <td>512</td>\n",
       "      <td>0</td>\n",
       "      <td>AMD Processor</td>\n",
       "    </tr>\n",
       "    <tr>\n",
       "      <th>4</th>\n",
       "      <td>49990.0</td>\n",
       "      <td>8</td>\n",
       "      <td>DDR4</td>\n",
       "      <td>Intel Core i5 Processor</td>\n",
       "      <td>Windows 11</td>\n",
       "      <td>15.6</td>\n",
       "      <td>ASUS</td>\n",
       "      <td>0</td>\n",
       "      <td>512</td>\n",
       "      <td>0</td>\n",
       "      <td>Intel Core i5 Processor</td>\n",
       "    </tr>\n",
       "  </tbody>\n",
       "</table>\n",
       "</div>"
      ],
      "text/plain": [
       "       MRP  Ram_Size Ram_Type                        Processor          OS  \\\n",
       "0  36990.0         8     DDR4          Intel Core i3 Processor  Windows 11   \n",
       "1  39990.0         8     DDR4          Intel Core i3 Processor  Windows 11   \n",
       "2  32990.0         8     DDR4          Intel Core i3 Processor  Windows 11   \n",
       "3  49990.0         8     DDR4  AMD Ryzen 5 Hexa Core Processor  Windows 10   \n",
       "4  49990.0         8     DDR4          Intel Core i5 Processor  Windows 11   \n",
       "\n",
       "   Display   Brand  HDD  SSD  EMMC                CPU_brand  \n",
       "0     14.0  Lenovo    0  256     0  Intel Core i3 Processor  \n",
       "1     15.6  Lenovo    0  512     0  Intel Core i3 Processor  \n",
       "2     15.6    ASUS    0  512     0  Intel Core i3 Processor  \n",
       "3     15.6      HP    0  512     0            AMD Processor  \n",
       "4     15.6    ASUS    0  512     0  Intel Core i5 Processor  "
      ]
     },
     "execution_count": 49,
     "metadata": {},
     "output_type": "execute_result"
    }
   ],
   "source": [
    "df.head()"
   ]
  },
  {
   "cell_type": "code",
   "execution_count": 50,
   "metadata": {
    "ExecuteTime": {
     "end_time": "2023-04-05T04:54:43.313181Z",
     "start_time": "2023-04-05T04:54:41.786144Z"
    },
    "colab": {
     "base_uri": "https://localhost:8080/"
    },
    "id": "mKyVEyFguIs5",
    "outputId": "97d6ef8c-6df7-4c40-acb6-6b23ca795cea"
   },
   "outputs": [
    {
     "data": {
      "text/plain": [
       "Windows 11    272\n",
       "Windows 10    114\n",
       "Mac OS         13\n",
       "Chrome          6\n",
       "DOS             4\n",
       "Name: OS, dtype: int64"
      ]
     },
     "execution_count": 50,
     "metadata": {},
     "output_type": "execute_result"
    }
   ],
   "source": [
    "df['OS'].value_counts()"
   ]
  },
  {
   "cell_type": "code",
   "execution_count": 51,
   "metadata": {
    "ExecuteTime": {
     "end_time": "2023-04-05T04:54:44.293142Z",
     "start_time": "2023-04-05T04:54:43.326263Z"
    },
    "colab": {
     "base_uri": "https://localhost:8080/",
     "height": 520
    },
    "id": "iSdppjHgOkym",
    "outputId": "e9f7a00d-ed69-488a-910c-301466db6343"
   },
   "outputs": [
    {
     "data": {
      "image/png": "[encoded data removed]",
      "text/plain": [
       "<Figure size 640x480 with 1 Axes>"
      ]
     },
     "metadata": {},
     "output_type": "display_data"
    }
   ],
   "source": [
    "sns.barplot(x=df['OS'],y=df['MRP'])\n",
    "plt.xticks(rotation='vertical')\n",
    "plt.show()"
   ]
  },
  {
   "cell_type": "code",
   "execution_count": 52,
   "metadata": {
    "ExecuteTime": {
     "end_time": "2023-04-05T04:54:44.326355Z",
     "start_time": "2023-04-05T04:54:44.296263Z"
    },
    "id": "4ueeDWEYOq4L"
   },
   "outputs": [],
   "source": [
    "def cat_os(inp):\n",
    "    if inp == 'Windows 11' or inp == 'Windows 10':\n",
    "      return 'Windows'\n",
    "    elif inp == 'Mac OS':\n",
    "      return 'Mac'\n",
    "    elif inp == 'DOS':\n",
    "      return 'DOS'\n",
    "    else:\n",
    "      return 'Chrome'"
   ]
  },
  {
   "cell_type": "code",
   "execution_count": 53,
   "metadata": {
    "ExecuteTime": {
     "end_time": "2023-04-05T04:54:44.656144Z",
     "start_time": "2023-04-05T04:54:44.326641Z"
    },
    "id": "XHw601aDPsWh"
   },
   "outputs": [],
   "source": [
    "df['OS'] = df['OS'].apply(cat_os)"
   ]
  },
  {
   "cell_type": "code",
   "execution_count": 54,
   "metadata": {
    "ExecuteTime": {
     "end_time": "2023-04-05T04:54:46.125770Z",
     "start_time": "2023-04-05T04:54:44.666283Z"
    },
    "colab": {
     "base_uri": "https://localhost:8080/",
     "height": 497
    },
    "id": "iABLLLXAP2Jb",
    "outputId": "963933d2-44a8-4009-cab3-bad0491a2e4f"
   },
   "outputs": [
    {
     "data": {
      "image/png": "[encoded data removed]",
      "text/plain": [
       "<Figure size 640x480 with 1 Axes>"
      ]
     },
     "metadata": {},
     "output_type": "display_data"
    }
   ],
   "source": [
    "sns.barplot(x=df['OS'],y=df['MRP'])\n",
    "plt.xticks(rotation='vertical')\n",
    "plt.show()"
   ]
  },
  {
   "cell_type": "code",
   "execution_count": 55,
   "metadata": {
    "ExecuteTime": {
     "end_time": "2023-04-05T04:54:47.161089Z",
     "start_time": "2023-04-05T04:54:46.130782Z"
    },
    "colab": {
     "base_uri": "https://localhost:8080/",
     "height": 591
    },
    "id": "GoazNkokufcf",
    "outputId": "549eda6f-af4d-487b-8b35-68aedb843bec"
   },
   "outputs": [
    {
     "data": {
      "image/png": "[encoded data removed]",
      "text/plain": [
       "<Figure size 640x480 with 1 Axes>"
      ]
     },
     "metadata": {},
     "output_type": "display_data"
    }
   ],
   "source": [
    "sns.barplot(x=df['CPU_brand'],y=df['MRP'])\n",
    "plt.xticks(rotation='vertical')\n",
    "plt.show()"
   ]
  },
  {
   "cell_type": "code",
   "execution_count": 56,
   "metadata": {
    "ExecuteTime": {
     "end_time": "2023-04-05T04:54:47.196408Z",
     "start_time": "2023-04-05T04:54:47.166552Z"
    },
    "id": "1QxVQyFkN7cP"
   },
   "outputs": [],
   "source": [
    "df.drop(columns=['Processor'],inplace=True)"
   ]
  },
  {
   "cell_type": "code",
   "execution_count": 57,
   "metadata": {
    "ExecuteTime": {
     "end_time": "2023-04-05T04:54:47.396315Z",
     "start_time": "2023-04-05T04:54:47.199808Z"
    },
    "colab": {
     "base_uri": "https://localhost:8080/",
     "height": 206
    },
    "id": "dCe3Yvo2OU6-",
    "outputId": "630a7d63-441e-4042-c7d7-d6ad8c2be6b8"
   },
   "outputs": [
    {
     "data": {
      "text/html": [
       "<div>\n",
       "<style scoped>\n",
       "    .dataframe tbody tr th:only-of-type {\n",
       "        vertical-align: middle;\n",
       "    }\n",
       "\n",
       "    .dataframe tbody tr th {\n",
       "        vertical-align: top;\n",
       "    }\n",
       "\n",
       "    .dataframe thead th {\n",
       "        text-align: right;\n",
       "    }\n",
       "</style>\n",
       "<table border=\"1\" class=\"dataframe\">\n",
       "  <thead>\n",
       "    <tr style=\"text-align: right;\">\n",
       "      <th></th>\n",
       "      <th>MRP</th>\n",
       "      <th>Ram_Size</th>\n",
       "      <th>Ram_Type</th>\n",
       "      <th>OS</th>\n",
       "      <th>Display</th>\n",
       "      <th>Brand</th>\n",
       "      <th>HDD</th>\n",
       "      <th>SSD</th>\n",
       "      <th>EMMC</th>\n",
       "      <th>CPU_brand</th>\n",
       "    </tr>\n",
       "  </thead>\n",
       "  <tbody>\n",
       "    <tr>\n",
       "      <th>0</th>\n",
       "      <td>36990.0</td>\n",
       "      <td>8</td>\n",
       "      <td>DDR4</td>\n",
       "      <td>Windows</td>\n",
       "      <td>14.0</td>\n",
       "      <td>Lenovo</td>\n",
       "      <td>0</td>\n",
       "      <td>256</td>\n",
       "      <td>0</td>\n",
       "      <td>Intel Core i3 Processor</td>\n",
       "    </tr>\n",
       "    <tr>\n",
       "      <th>1</th>\n",
       "      <td>39990.0</td>\n",
       "      <td>8</td>\n",
       "      <td>DDR4</td>\n",
       "      <td>Windows</td>\n",
       "      <td>15.6</td>\n",
       "      <td>Lenovo</td>\n",
       "      <td>0</td>\n",
       "      <td>512</td>\n",
       "      <td>0</td>\n",
       "      <td>Intel Core i3 Processor</td>\n",
       "    </tr>\n",
       "    <tr>\n",
       "      <th>2</th>\n",
       "      <td>32990.0</td>\n",
       "      <td>8</td>\n",
       "      <td>DDR4</td>\n",
       "      <td>Windows</td>\n",
       "      <td>15.6</td>\n",
       "      <td>ASUS</td>\n",
       "      <td>0</td>\n",
       "      <td>512</td>\n",
       "      <td>0</td>\n",
       "      <td>Intel Core i3 Processor</td>\n",
       "    </tr>\n",
       "    <tr>\n",
       "      <th>3</th>\n",
       "      <td>49990.0</td>\n",
       "      <td>8</td>\n",
       "      <td>DDR4</td>\n",
       "      <td>Windows</td>\n",
       "      <td>15.6</td>\n",
       "      <td>HP</td>\n",
       "      <td>0</td>\n",
       "      <td>512</td>\n",
       "      <td>0</td>\n",
       "      <td>AMD Processor</td>\n",
       "    </tr>\n",
       "    <tr>\n",
       "      <th>4</th>\n",
       "      <td>49990.0</td>\n",
       "      <td>8</td>\n",
       "      <td>DDR4</td>\n",
       "      <td>Windows</td>\n",
       "      <td>15.6</td>\n",
       "      <td>ASUS</td>\n",
       "      <td>0</td>\n",
       "      <td>512</td>\n",
       "      <td>0</td>\n",
       "      <td>Intel Core i5 Processor</td>\n",
       "    </tr>\n",
       "  </tbody>\n",
       "</table>\n",
       "</div>"
      ],
      "text/plain": [
       "       MRP  Ram_Size Ram_Type       OS  Display   Brand  HDD  SSD  EMMC  \\\n",
       "0  36990.0         8     DDR4  Windows     14.0  Lenovo    0  256     0   \n",
       "1  39990.0         8     DDR4  Windows     15.6  Lenovo    0  512     0   \n",
       "2  32990.0         8     DDR4  Windows     15.6    ASUS    0  512     0   \n",
       "3  49990.0         8     DDR4  Windows     15.6      HP    0  512     0   \n",
       "4  49990.0         8     DDR4  Windows     15.6    ASUS    0  512     0   \n",
       "\n",
       "                 CPU_brand  \n",
       "0  Intel Core i3 Processor  \n",
       "1  Intel Core i3 Processor  \n",
       "2  Intel Core i3 Processor  \n",
       "3            AMD Processor  \n",
       "4  Intel Core i5 Processor  "
      ]
     },
     "execution_count": 57,
     "metadata": {},
     "output_type": "execute_result"
    }
   ],
   "source": [
    "df.head()"
   ]
  },
  {
   "cell_type": "code",
   "execution_count": 58,
   "metadata": {
    "ExecuteTime": {
     "end_time": "2023-04-05T04:54:47.455959Z",
     "start_time": "2023-04-05T04:54:47.398998Z"
    },
    "colab": {
     "base_uri": "https://localhost:8080/"
    },
    "id": "7laPGTdsOWqH",
    "outputId": "9945fbe2-7a02-4998-ba76-b9ce017a9232"
   },
   "outputs": [
    {
     "data": {
      "text/plain": [
       "MRP         1.000000\n",
       "Ram_Size    0.497122\n",
       "Display     0.128158\n",
       "HDD        -0.114978\n",
       "SSD         0.727529\n",
       "EMMC       -0.122681\n",
       "Name: MRP, dtype: float64"
      ]
     },
     "execution_count": 58,
     "metadata": {},
     "output_type": "execute_result"
    }
   ],
   "source": [
    "df.corr()['MRP']"
   ]
  },
  {
   "cell_type": "code",
   "execution_count": 59,
   "metadata": {
    "ExecuteTime": {
     "end_time": "2023-04-05T04:54:47.626387Z",
     "start_time": "2023-04-05T04:54:47.455959Z"
    },
    "colab": {
     "base_uri": "https://localhost:8080/"
    },
    "id": "7N4DUaTsQHvZ",
    "outputId": "2e4352b2-01b3-4ed8-d5fc-f4f7d1fe65e2"
   },
   "outputs": [
    {
     "name": "stdout",
     "output_type": "stream",
     "text": [
      "<class 'pandas.core.frame.DataFrame'>\n",
      "Int64Index: 409 entries, 0 to 719\n",
      "Data columns (total 10 columns):\n",
      " #   Column     Non-Null Count  Dtype  \n",
      "---  ------     --------------  -----  \n",
      " 0   MRP        409 non-null    float64\n",
      " 1   Ram_Size   409 non-null    int32  \n",
      " 2   Ram_Type   409 non-null    object \n",
      " 3   OS         409 non-null    object \n",
      " 4   Display    409 non-null    float64\n",
      " 5   Brand      409 non-null    object \n",
      " 6   HDD        409 non-null    int64  \n",
      " 7   SSD        409 non-null    int64  \n",
      " 8   EMMC       409 non-null    int64  \n",
      " 9   CPU_brand  409 non-null    object \n",
      "dtypes: float64(2), int32(1), int64(3), object(4)\n",
      "memory usage: 33.6+ KB\n"
     ]
    }
   ],
   "source": [
    "df.info()"
   ]
  },
  {
   "cell_type": "code",
   "execution_count": 60,
   "metadata": {
    "ExecuteTime": {
     "end_time": "2023-04-05T04:54:48.355879Z",
     "start_time": "2023-04-05T04:54:47.636403Z"
    },
    "colab": {
     "base_uri": "https://localhost:8080/",
     "height": 453
    },
    "id": "MZH5tPrIQWOM",
    "outputId": "06b260b0-f214-43cf-c62c-e978fe26f44f"
   },
   "outputs": [
    {
     "data": {
      "text/plain": [
       "<AxesSubplot:>"
      ]
     },
     "execution_count": 60,
     "metadata": {},
     "output_type": "execute_result"
    },
    {
     "data": {
      "image/png": "[encoded data removed]",
      "text/plain": [
       "<Figure size 640x480 with 2 Axes>"
      ]
     },
     "metadata": {},
     "output_type": "display_data"
    }
   ],
   "source": [
    "sns.heatmap(df.corr())"
   ]
  },
  {
   "cell_type": "code",
   "execution_count": 61,
   "metadata": {
    "ExecuteTime": {
     "end_time": "2023-04-05T04:54:48.855850Z",
     "start_time": "2023-04-05T04:54:48.365958Z"
    },
    "colab": {
     "base_uri": "https://localhost:8080/",
     "height": 668
    },
    "id": "fAClYDXhQhQ6",
    "outputId": "e9503bfa-cf5b-4ee8-d9b0-5d6c038eb566"
   },
   "outputs": [
    {
     "name": "stderr",
     "output_type": "stream",
     "text": [
      "C:\\Users\\Lenovo\\anaconda3\\lib\\site-packages\\seaborn\\distributions.py:2619: FutureWarning: `distplot` is a deprecated function and will be removed in a future version. Please adapt your code to use either `displot` (a figure-level function with similar flexibility) or `histplot` (an axes-level function for histograms).\n",
      "  warnings.warn(msg, FutureWarning)\n"
     ]
    },
    {
     "data": {
      "text/plain": [
       "<AxesSubplot:xlabel='MRP', ylabel='Density'>"
      ]
     },
     "execution_count": 61,
     "metadata": {},
     "output_type": "execute_result"
    },
    {
     "data": {
      "image/png": "[encoded data removed]",
      "text/plain": [
       "<Figure size 640x480 with 1 Axes>"
      ]
     },
     "metadata": {},
     "output_type": "display_data"
    }
   ],
   "source": [
    "sns.distplot(np.log(df['MRP']))"
   ]
  },
  {
   "cell_type": "code",
   "execution_count": 62,
   "metadata": {
    "ExecuteTime": {
     "end_time": "2023-04-05T04:54:48.885961Z",
     "start_time": "2023-04-05T04:54:48.860556Z"
    },
    "colab": {
     "base_uri": "https://localhost:8080/"
    },
    "id": "QIPTG8E_Qlwa",
    "outputId": "ea5e63cd-595b-4523-8eae-c7659fd5aae8"
   },
   "outputs": [
    {
     "data": {
      "text/plain": [
       "DDR4              314\n",
       "DDR5               39\n",
       "LPDDR4X            30\n",
       "LPDDR4              8\n",
       "Unified Memory      8\n",
       "LPDDR5              8\n",
       "DDR4,               1\n",
       "LPDDR3              1\n",
       "Name: Ram_Type, dtype: int64"
      ]
     },
     "execution_count": 62,
     "metadata": {},
     "output_type": "execute_result"
    }
   ],
   "source": [
    "df['Ram_Type'].value_counts()"
   ]
  },
  {
   "cell_type": "markdown",
   "metadata": {
    "id": "6646p06VRokT"
   },
   "source": [
    "# Model Building\n"
   ]
  },
  {
   "cell_type": "code",
   "execution_count": 63,
   "metadata": {
    "ExecuteTime": {
     "end_time": "2023-04-05T04:54:49.796254Z",
     "start_time": "2023-04-05T04:54:48.885961Z"
    },
    "colab": {
     "base_uri": "https://localhost:8080/",
     "height": 206
    },
    "id": "uxRsGVjURW_b",
    "outputId": "683af965-cca3-448e-94ae-a7b6d4fc35d8"
   },
   "outputs": [
    {
     "data": {
      "text/html": [
       "<div>\n",
       "<style scoped>\n",
       "    .dataframe tbody tr th:only-of-type {\n",
       "        vertical-align: middle;\n",
       "    }\n",
       "\n",
       "    .dataframe tbody tr th {\n",
       "        vertical-align: top;\n",
       "    }\n",
       "\n",
       "    .dataframe thead th {\n",
       "        text-align: right;\n",
       "    }\n",
       "</style>\n",
       "<table border=\"1\" class=\"dataframe\">\n",
       "  <thead>\n",
       "    <tr style=\"text-align: right;\">\n",
       "      <th></th>\n",
       "      <th>MRP</th>\n",
       "      <th>Ram_Size</th>\n",
       "      <th>Ram_Type</th>\n",
       "      <th>OS</th>\n",
       "      <th>Display</th>\n",
       "      <th>Brand</th>\n",
       "      <th>HDD</th>\n",
       "      <th>SSD</th>\n",
       "      <th>EMMC</th>\n",
       "      <th>CPU_brand</th>\n",
       "    </tr>\n",
       "  </thead>\n",
       "  <tbody>\n",
       "    <tr>\n",
       "      <th>0</th>\n",
       "      <td>36990.0</td>\n",
       "      <td>8</td>\n",
       "      <td>DDR4</td>\n",
       "      <td>Windows</td>\n",
       "      <td>14.0</td>\n",
       "      <td>Lenovo</td>\n",
       "      <td>0</td>\n",
       "      <td>256</td>\n",
       "      <td>0</td>\n",
       "      <td>Intel Core i3 Processor</td>\n",
       "    </tr>\n",
       "    <tr>\n",
       "      <th>1</th>\n",
       "      <td>39990.0</td>\n",
       "      <td>8</td>\n",
       "      <td>DDR4</td>\n",
       "      <td>Windows</td>\n",
       "      <td>15.6</td>\n",
       "      <td>Lenovo</td>\n",
       "      <td>0</td>\n",
       "      <td>512</td>\n",
       "      <td>0</td>\n",
       "      <td>Intel Core i3 Processor</td>\n",
       "    </tr>\n",
       "    <tr>\n",
       "      <th>2</th>\n",
       "      <td>32990.0</td>\n",
       "      <td>8</td>\n",
       "      <td>DDR4</td>\n",
       "      <td>Windows</td>\n",
       "      <td>15.6</td>\n",
       "      <td>ASUS</td>\n",
       "      <td>0</td>\n",
       "      <td>512</td>\n",
       "      <td>0</td>\n",
       "      <td>Intel Core i3 Processor</td>\n",
       "    </tr>\n",
       "    <tr>\n",
       "      <th>3</th>\n",
       "      <td>49990.0</td>\n",
       "      <td>8</td>\n",
       "      <td>DDR4</td>\n",
       "      <td>Windows</td>\n",
       "      <td>15.6</td>\n",
       "      <td>HP</td>\n",
       "      <td>0</td>\n",
       "      <td>512</td>\n",
       "      <td>0</td>\n",
       "      <td>AMD Processor</td>\n",
       "    </tr>\n",
       "    <tr>\n",
       "      <th>4</th>\n",
       "      <td>49990.0</td>\n",
       "      <td>8</td>\n",
       "      <td>DDR4</td>\n",
       "      <td>Windows</td>\n",
       "      <td>15.6</td>\n",
       "      <td>ASUS</td>\n",
       "      <td>0</td>\n",
       "      <td>512</td>\n",
       "      <td>0</td>\n",
       "      <td>Intel Core i5 Processor</td>\n",
       "    </tr>\n",
       "  </tbody>\n",
       "</table>\n",
       "</div>"
      ],
      "text/plain": [
       "       MRP  Ram_Size Ram_Type       OS  Display   Brand  HDD  SSD  EMMC  \\\n",
       "0  36990.0         8     DDR4  Windows     14.0  Lenovo    0  256     0   \n",
       "1  39990.0         8     DDR4  Windows     15.6  Lenovo    0  512     0   \n",
       "2  32990.0         8     DDR4  Windows     15.6    ASUS    0  512     0   \n",
       "3  49990.0         8     DDR4  Windows     15.6      HP    0  512     0   \n",
       "4  49990.0         8     DDR4  Windows     15.6    ASUS    0  512     0   \n",
       "\n",
       "                 CPU_brand  \n",
       "0  Intel Core i3 Processor  \n",
       "1  Intel Core i3 Processor  \n",
       "2  Intel Core i3 Processor  \n",
       "3            AMD Processor  \n",
       "4  Intel Core i5 Processor  "
      ]
     },
     "execution_count": 63,
     "metadata": {},
     "output_type": "execute_result"
    }
   ],
   "source": [
    "df.head()"
   ]
  },
  {
   "cell_type": "code",
   "execution_count": 64,
   "metadata": {
    "ExecuteTime": {
     "end_time": "2023-04-05T04:54:50.016272Z",
     "start_time": "2023-04-05T04:54:49.806221Z"
    },
    "id": "4rkEUJKGRwzn"
   },
   "outputs": [],
   "source": [
    "X = df.drop(columns=['MRP'])\n",
    "y = np.log(df['MRP'])"
   ]
  },
  {
   "cell_type": "code",
   "execution_count": 65,
   "metadata": {
    "ExecuteTime": {
     "end_time": "2023-04-05T04:54:50.266288Z",
     "start_time": "2023-04-05T04:54:50.026179Z"
    },
    "colab": {
     "base_uri": "https://localhost:8080/",
     "height": 423
    },
    "id": "wKPYqANZR9Da",
    "outputId": "f45b5abd-90a5-442d-d5f2-6a2452903e3d"
   },
   "outputs": [
    {
     "data": {
      "text/html": [
       "<div>\n",
       "<style scoped>\n",
       "    .dataframe tbody tr th:only-of-type {\n",
       "        vertical-align: middle;\n",
       "    }\n",
       "\n",
       "    .dataframe tbody tr th {\n",
       "        vertical-align: top;\n",
       "    }\n",
       "\n",
       "    .dataframe thead th {\n",
       "        text-align: right;\n",
       "    }\n",
       "</style>\n",
       "<table border=\"1\" class=\"dataframe\">\n",
       "  <thead>\n",
       "    <tr style=\"text-align: right;\">\n",
       "      <th></th>\n",
       "      <th>Ram_Size</th>\n",
       "      <th>Ram_Type</th>\n",
       "      <th>OS</th>\n",
       "      <th>Display</th>\n",
       "      <th>Brand</th>\n",
       "      <th>HDD</th>\n",
       "      <th>SSD</th>\n",
       "      <th>EMMC</th>\n",
       "      <th>CPU_brand</th>\n",
       "    </tr>\n",
       "  </thead>\n",
       "  <tbody>\n",
       "    <tr>\n",
       "      <th>0</th>\n",
       "      <td>8</td>\n",
       "      <td>DDR4</td>\n",
       "      <td>Windows</td>\n",
       "      <td>14.0</td>\n",
       "      <td>Lenovo</td>\n",
       "      <td>0</td>\n",
       "      <td>256</td>\n",
       "      <td>0</td>\n",
       "      <td>Intel Core i3 Processor</td>\n",
       "    </tr>\n",
       "    <tr>\n",
       "      <th>1</th>\n",
       "      <td>8</td>\n",
       "      <td>DDR4</td>\n",
       "      <td>Windows</td>\n",
       "      <td>15.6</td>\n",
       "      <td>Lenovo</td>\n",
       "      <td>0</td>\n",
       "      <td>512</td>\n",
       "      <td>0</td>\n",
       "      <td>Intel Core i3 Processor</td>\n",
       "    </tr>\n",
       "    <tr>\n",
       "      <th>2</th>\n",
       "      <td>8</td>\n",
       "      <td>DDR4</td>\n",
       "      <td>Windows</td>\n",
       "      <td>15.6</td>\n",
       "      <td>ASUS</td>\n",
       "      <td>0</td>\n",
       "      <td>512</td>\n",
       "      <td>0</td>\n",
       "      <td>Intel Core i3 Processor</td>\n",
       "    </tr>\n",
       "    <tr>\n",
       "      <th>3</th>\n",
       "      <td>8</td>\n",
       "      <td>DDR4</td>\n",
       "      <td>Windows</td>\n",
       "      <td>15.6</td>\n",
       "      <td>HP</td>\n",
       "      <td>0</td>\n",
       "      <td>512</td>\n",
       "      <td>0</td>\n",
       "      <td>AMD Processor</td>\n",
       "    </tr>\n",
       "    <tr>\n",
       "      <th>4</th>\n",
       "      <td>8</td>\n",
       "      <td>DDR4</td>\n",
       "      <td>Windows</td>\n",
       "      <td>15.6</td>\n",
       "      <td>ASUS</td>\n",
       "      <td>0</td>\n",
       "      <td>512</td>\n",
       "      <td>0</td>\n",
       "      <td>Intel Core i5 Processor</td>\n",
       "    </tr>\n",
       "    <tr>\n",
       "      <th>...</th>\n",
       "      <td>...</td>\n",
       "      <td>...</td>\n",
       "      <td>...</td>\n",
       "      <td>...</td>\n",
       "      <td>...</td>\n",
       "      <td>...</td>\n",
       "      <td>...</td>\n",
       "      <td>...</td>\n",
       "      <td>...</td>\n",
       "    </tr>\n",
       "    <tr>\n",
       "      <th>713</th>\n",
       "      <td>16</td>\n",
       "      <td>DDR5</td>\n",
       "      <td>Windows</td>\n",
       "      <td>13.3</td>\n",
       "      <td>DELL</td>\n",
       "      <td>0</td>\n",
       "      <td>512</td>\n",
       "      <td>0</td>\n",
       "      <td>Intel Core i5 Processor</td>\n",
       "    </tr>\n",
       "    <tr>\n",
       "      <th>714</th>\n",
       "      <td>16</td>\n",
       "      <td>DDR4</td>\n",
       "      <td>Windows</td>\n",
       "      <td>15.6</td>\n",
       "      <td>HP</td>\n",
       "      <td>0</td>\n",
       "      <td>512</td>\n",
       "      <td>0</td>\n",
       "      <td>AMD Processor</td>\n",
       "    </tr>\n",
       "    <tr>\n",
       "      <th>715</th>\n",
       "      <td>4</td>\n",
       "      <td>LPDDR4</td>\n",
       "      <td>Chrome</td>\n",
       "      <td>11.6</td>\n",
       "      <td>ASUS</td>\n",
       "      <td>0</td>\n",
       "      <td>0</td>\n",
       "      <td>64</td>\n",
       "      <td>Other Intel Processor</td>\n",
       "    </tr>\n",
       "    <tr>\n",
       "      <th>718</th>\n",
       "      <td>16</td>\n",
       "      <td>LPDDR5</td>\n",
       "      <td>Windows</td>\n",
       "      <td>14.0</td>\n",
       "      <td>ASUS</td>\n",
       "      <td>0</td>\n",
       "      <td>512</td>\n",
       "      <td>0</td>\n",
       "      <td>Intel Core i7 Processor</td>\n",
       "    </tr>\n",
       "    <tr>\n",
       "      <th>719</th>\n",
       "      <td>8</td>\n",
       "      <td>DDR4</td>\n",
       "      <td>Windows</td>\n",
       "      <td>15.6</td>\n",
       "      <td>Lenovo</td>\n",
       "      <td>1000</td>\n",
       "      <td>0</td>\n",
       "      <td>0</td>\n",
       "      <td>Intel Core i5 Processor</td>\n",
       "    </tr>\n",
       "  </tbody>\n",
       "</table>\n",
       "<p>409 rows × 9 columns</p>\n",
       "</div>"
      ],
      "text/plain": [
       "     Ram_Size Ram_Type       OS  Display   Brand   HDD  SSD  EMMC  \\\n",
       "0           8     DDR4  Windows     14.0  Lenovo     0  256     0   \n",
       "1           8     DDR4  Windows     15.6  Lenovo     0  512     0   \n",
       "2           8     DDR4  Windows     15.6    ASUS     0  512     0   \n",
       "3           8     DDR4  Windows     15.6      HP     0  512     0   \n",
       "4           8     DDR4  Windows     15.6    ASUS     0  512     0   \n",
       "..        ...      ...      ...      ...     ...   ...  ...   ...   \n",
       "713        16     DDR5  Windows     13.3    DELL     0  512     0   \n",
       "714        16     DDR4  Windows     15.6      HP     0  512     0   \n",
       "715         4   LPDDR4   Chrome     11.6    ASUS     0    0    64   \n",
       "718        16   LPDDR5  Windows     14.0    ASUS     0  512     0   \n",
       "719         8     DDR4  Windows     15.6  Lenovo  1000    0     0   \n",
       "\n",
       "                   CPU_brand  \n",
       "0    Intel Core i3 Processor  \n",
       "1    Intel Core i3 Processor  \n",
       "2    Intel Core i3 Processor  \n",
       "3              AMD Processor  \n",
       "4    Intel Core i5 Processor  \n",
       "..                       ...  \n",
       "713  Intel Core i5 Processor  \n",
       "714            AMD Processor  \n",
       "715    Other Intel Processor  \n",
       "718  Intel Core i7 Processor  \n",
       "719  Intel Core i5 Processor  \n",
       "\n",
       "[409 rows x 9 columns]"
      ]
     },
     "execution_count": 65,
     "metadata": {},
     "output_type": "execute_result"
    }
   ],
   "source": [
    "X"
   ]
  },
  {
   "cell_type": "code",
   "execution_count": 66,
   "metadata": {
    "ExecuteTime": {
     "end_time": "2023-04-05T04:54:50.356212Z",
     "start_time": "2023-04-05T04:54:50.276410Z"
    },
    "colab": {
     "base_uri": "https://localhost:8080/"
    },
    "id": "hrWyyABzUVv3",
    "outputId": "a1ea134e-c216-40e4-c012-8f078dd7a62b"
   },
   "outputs": [
    {
     "name": "stdout",
     "output_type": "stream",
     "text": [
      "<class 'pandas.core.frame.DataFrame'>\n",
      "Int64Index: 409 entries, 0 to 719\n",
      "Data columns (total 9 columns):\n",
      " #   Column     Non-Null Count  Dtype  \n",
      "---  ------     --------------  -----  \n",
      " 0   Ram_Size   409 non-null    int32  \n",
      " 1   Ram_Type   409 non-null    object \n",
      " 2   OS         409 non-null    object \n",
      " 3   Display    409 non-null    float64\n",
      " 4   Brand      409 non-null    object \n",
      " 5   HDD        409 non-null    int64  \n",
      " 6   SSD        409 non-null    int64  \n",
      " 7   EMMC       409 non-null    int64  \n",
      " 8   CPU_brand  409 non-null    object \n",
      "dtypes: float64(1), int32(1), int64(3), object(4)\n",
      "memory usage: 30.4+ KB\n"
     ]
    }
   ],
   "source": [
    "X.info()"
   ]
  },
  {
   "cell_type": "code",
   "execution_count": null,
   "metadata": {
    "id": "Q2F1kLDIUVU1"
   },
   "outputs": [],
   "source": []
  },
  {
   "cell_type": "code",
   "execution_count": 67,
   "metadata": {
    "ExecuteTime": {
     "end_time": "2023-04-05T04:54:50.536094Z",
     "start_time": "2023-04-05T04:54:50.356212Z"
    },
    "colab": {
     "base_uri": "https://localhost:8080/"
    },
    "id": "hNbYKN5eR_bg",
    "outputId": "f44d66a6-ed69-4d06-9321-4c529e566882"
   },
   "outputs": [
    {
     "data": {
      "text/plain": [
       "0      10.518403\n",
       "1      10.596385\n",
       "2      10.403960\n",
       "3      10.819578\n",
       "4      10.819578\n",
       "         ...    \n",
       "713    11.246222\n",
       "714    11.407565\n",
       "715    10.064330\n",
       "718    11.743958\n",
       "719    10.839385\n",
       "Name: MRP, Length: 409, dtype: float64"
      ]
     },
     "execution_count": 67,
     "metadata": {},
     "output_type": "execute_result"
    }
   ],
   "source": [
    "y"
   ]
  },
  {
   "cell_type": "code",
   "execution_count": 68,
   "metadata": {
    "ExecuteTime": {
     "end_time": "2023-04-05T04:54:54.636484Z",
     "start_time": "2023-04-05T04:54:50.545979Z"
    },
    "id": "vd11gzOwSC6s"
   },
   "outputs": [],
   "source": [
    "from sklearn.model_selection import train_test_split\n",
    "X_train,X_test,y_train,y_test = train_test_split(X,y,test_size=0.15,random_state=2)"
   ]
  },
  {
   "cell_type": "code",
   "execution_count": 69,
   "metadata": {
    "ExecuteTime": {
     "end_time": "2023-04-05T04:54:57.946022Z",
     "start_time": "2023-04-05T04:54:54.636484Z"
    },
    "id": "gUYRNSyiSKTJ"
   },
   "outputs": [],
   "source": [
    "from sklearn.compose import ColumnTransformer\n",
    "from sklearn.pipeline import Pipeline\n",
    "from sklearn.preprocessing import OneHotEncoder\n",
    "from sklearn.metrics import r2_score,mean_absolute_error\n",
    "from sklearn.linear_model import LinearRegression,Ridge,Lasso\n",
    "from sklearn.neighbors import KNeighborsRegressor\n",
    "from sklearn.tree import DecisionTreeRegressor\n",
    "from sklearn.ensemble import RandomForestRegressor,GradientBoostingRegressor,AdaBoostRegressor,ExtraTreesRegressor\n",
    "from sklearn.svm import SVR\n",
    "from xgboost import XGBRegressor"
   ]
  },
  {
   "cell_type": "markdown",
   "metadata": {
    "id": "StsRBcBzSUlk"
   },
   "source": [
    "# Linear Regression\n"
   ]
  },
  {
   "cell_type": "code",
   "execution_count": 70,
   "metadata": {
    "ExecuteTime": {
     "end_time": "2023-04-05T04:54:58.741169Z",
     "start_time": "2023-04-05T04:54:57.956170Z"
    },
    "colab": {
     "base_uri": "https://localhost:8080/"
    },
    "id": "6o2y3M5ISOYE",
    "outputId": "161b9693-a642-478e-8dea-a9338ff5d2fc"
   },
   "outputs": [
    {
     "name": "stdout",
     "output_type": "stream",
     "text": [
      "R2 score 0.8004850311358893\n",
      "MAE 0.18391772664979764\n"
     ]
    }
   ],
   "source": [
    "step1 = ColumnTransformer(transformers=[('col_tnf',OneHotEncoder(sparse=False,drop='first'),[1,2,4,8])],remainder='passthrough')\n",
    "\n",
    "step2 = Lasso(alpha=0.001)\n",
    "\n",
    "pipe = Pipeline([('step1',step1),('step2',step2)])\n",
    "\n",
    "pipe.fit(X_train,y_train)\n",
    "\n",
    "y_pred = pipe.predict(X_test)\n",
    "\n",
    "print('R2 score',r2_score(y_test,y_pred))\n",
    "print('MAE',mean_absolute_error(y_test,y_pred))"
   ]
  },
  {
   "cell_type": "markdown",
   "metadata": {
    "id": "VBO8dI_rUwph"
   },
   "source": [
    "# KNN\n"
   ]
  },
  {
   "cell_type": "code",
   "execution_count": 71,
   "metadata": {
    "ExecuteTime": {
     "end_time": "2023-04-05T04:54:59.021140Z",
     "start_time": "2023-04-05T04:54:58.746344Z"
    },
    "colab": {
     "base_uri": "https://localhost:8080/"
    },
    "id": "OZTYkYfFSlg_",
    "outputId": "f135a570-9124-42ca-acca-1f9d83f57bfc"
   },
   "outputs": [
    {
     "name": "stdout",
     "output_type": "stream",
     "text": [
      "R2 score 0.4740332348274987\n",
      "MAE 0.22666593723795941\n"
     ]
    }
   ],
   "source": [
    "step1 = ColumnTransformer(transformers=[('col_tnf',OneHotEncoder(sparse=False,drop='first'),[1,2,4,8])],remainder='passthrough')\n",
    "\n",
    "step2 = KNeighborsRegressor(n_neighbors=3)\n",
    "\n",
    "pipe1 = Pipeline([('step1',step1),('step2',step2)])\n",
    "\n",
    "pipe1.fit(X_train,y_train)\n",
    "\n",
    "y_pred = pipe1.predict(X_test)\n",
    "\n",
    "print('R2 score',r2_score(y_test,y_pred))\n",
    "print('MAE',mean_absolute_error(y_test,y_pred))\n",
    "\n"
   ]
  },
  {
   "cell_type": "markdown",
   "metadata": {
    "id": "NZ_jeQjLVRAE"
   },
   "source": [
    "# Desicion Tree"
   ]
  },
  {
   "cell_type": "code",
   "execution_count": 72,
   "metadata": {
    "ExecuteTime": {
     "end_time": "2023-04-05T04:54:59.606119Z",
     "start_time": "2023-04-05T04:54:59.030708Z"
    },
    "colab": {
     "base_uri": "https://localhost:8080/"
    },
    "id": "06m7kP5XVOQd",
    "outputId": "8a788beb-3d94-4e93-9140-e5cd619ab2de"
   },
   "outputs": [
    {
     "name": "stdout",
     "output_type": "stream",
     "text": [
      "R2 score 0.828169567868527\n",
      "MAE 0.1663713888165941\n"
     ]
    }
   ],
   "source": [
    "step1 = ColumnTransformer(transformers=[('col_tnf',OneHotEncoder(sparse=False,drop='first'),[1,2,4,8])],remainder='passthrough')\n",
    "\n",
    "step2 = DecisionTreeRegressor(max_depth=8)\n",
    "\n",
    "pipe2 = Pipeline([('step1',step1),('step2',step2)])\n",
    "\n",
    "pipe2.fit(X_train,y_train)\n",
    "\n",
    "y_pred = pipe2.predict(X_test)\n",
    "\n",
    "print('R2 score',r2_score(y_test,y_pred))\n",
    "print('MAE',mean_absolute_error(y_test,y_pred))"
   ]
  },
  {
   "cell_type": "markdown",
   "metadata": {
    "id": "6wI6ZQBJVlbh"
   },
   "source": [
    "# Random Forest\n"
   ]
  },
  {
   "cell_type": "code",
   "execution_count": 73,
   "metadata": {
    "ExecuteTime": {
     "end_time": "2023-04-05T04:55:00.086044Z",
     "start_time": "2023-04-05T04:54:59.621283Z"
    },
    "colab": {
     "base_uri": "https://localhost:8080/"
    },
    "id": "_F3-ovT1Vg6H",
    "outputId": "73fe3b8d-0037-464c-91d9-d04eb3d4d79e"
   },
   "outputs": [
    {
     "name": "stdout",
     "output_type": "stream",
     "text": [
      "R2 score 0.8031690783732599\n",
      "MAE 0.16207786770416654\n"
     ]
    }
   ],
   "source": [
    "step1 = ColumnTransformer(transformers=[('col_tnf',OneHotEncoder(sparse=False,drop='first'),[1,2,4,8])],remainder='passthrough')\n",
    "\n",
    "step2 = RandomForestRegressor(n_estimators=100,random_state=3,max_samples=0.5,max_features=0.75,max_depth=15)\n",
    "\n",
    "pipe3 = Pipeline([('step1',step1),('step2',step2)])\n",
    "\n",
    "pipe3.fit(X_train,y_train)\n",
    "\n",
    "y_pred = pipe3.predict(X_test)\n",
    "\n",
    "print('R2 score',r2_score(y_test,y_pred))\n",
    "print('MAE',mean_absolute_error(y_test,y_pred))"
   ]
  },
  {
   "cell_type": "markdown",
   "metadata": {
    "id": "ie1yiDzOV6An"
   },
   "source": [
    "# SVM"
   ]
  },
  {
   "cell_type": "code",
   "execution_count": 74,
   "metadata": {
    "ExecuteTime": {
     "end_time": "2023-04-05T04:55:00.935920Z",
     "start_time": "2023-04-05T04:55:00.088484Z"
    },
    "colab": {
     "base_uri": "https://localhost:8080/"
    },
    "id": "8idhPUj6V4N5",
    "outputId": "477f6e09-8161-4322-fea9-bd26b8090614"
   },
   "outputs": [
    {
     "name": "stdout",
     "output_type": "stream",
     "text": [
      "R2 score 0.7976600704357174\n",
      "MAE 0.17833183658732424\n"
     ]
    }
   ],
   "source": [
    "step1 = ColumnTransformer(transformers=[('col_tnf',OneHotEncoder(sparse=False,drop='first'),[1,2,4,8])],remainder='passthrough')\n",
    "\n",
    "step2 = SVR(kernel='rbf',C=10000,epsilon=0.1)\n",
    "pipe4 = Pipeline([('step1',step1),('step2',step2)])\n",
    "\n",
    "pipe4.fit(X_train,y_train)\n",
    "\n",
    "y_pred = pipe4.predict(X_test)\n",
    "\n",
    "print('R2 score',r2_score(y_test,y_pred))\n",
    "print('MAE',mean_absolute_error(y_test,y_pred))"
   ]
  },
  {
   "cell_type": "markdown",
   "metadata": {
    "id": "v6IcXcUcWF6h"
   },
   "source": [
    "# Extra Trees"
   ]
  },
  {
   "cell_type": "code",
   "execution_count": 75,
   "metadata": {
    "ExecuteTime": {
     "end_time": "2023-04-05T04:55:01.360978Z",
     "start_time": "2023-04-05T04:55:00.951055Z"
    },
    "colab": {
     "base_uri": "https://localhost:8080/"
    },
    "id": "yeoRFHcsWD2-",
    "outputId": "ddd5bc5e-904b-4acf-e55c-4599b7fb71bd"
   },
   "outputs": [
    {
     "name": "stdout",
     "output_type": "stream",
     "text": [
      "R2 score 0.8130920758958922\n",
      "MAE 0.16415817262278296\n"
     ]
    }
   ],
   "source": [
    "step1 = ColumnTransformer(transformers=[('col_tnf',OneHotEncoder(sparse=False,drop='first'),[1,2,4,8])],remainder='passthrough')\n",
    "\n",
    "step2 = ExtraTreesRegressor(n_estimators=100,random_state=3,max_samples=None,max_features=0.75,max_depth=15)\n",
    "pipe5 = Pipeline([('step1',step1),('step2',step2)])\n",
    "\n",
    "pipe5.fit(X_train,y_train)\n",
    "\n",
    "y_pred = pipe5.predict(X_test)\n",
    "\n",
    "print('R2 score',r2_score(y_test,y_pred))\n",
    "print('MAE',mean_absolute_error(y_test,y_pred))"
   ]
  },
  {
   "cell_type": "markdown",
   "metadata": {
    "id": "IIN72wXTWoST"
   },
   "source": [
    "# Decision tree model is giving the best accuracy\n",
    "\n",
    "\n",
    "*   R2 Score : 0.828169567868527\n",
    "*   MAE: 0.1663713888165941\n",
    "\n"
   ]
  },
  {
   "cell_type": "code",
   "execution_count": 76,
   "metadata": {
    "ExecuteTime": {
     "end_time": "2023-04-05T04:57:01.021702Z",
     "start_time": "2023-04-05T04:57:01.005654Z"
    },
    "id": "O8ZHN8jTWZ-4"
   },
   "outputs": [],
   "source": [
    "import pickle"
   ]
  },
  {
   "cell_type": "code",
   "execution_count": 77,
   "metadata": {
    "ExecuteTime": {
     "end_time": "2023-04-05T04:57:38.850038Z",
     "start_time": "2023-04-05T04:57:38.624459Z"
    }
   },
   "outputs": [],
   "source": [
    "pickle.dump(df,open('df.pkl','wb'))\n",
    "pickle.dump(pipe2,open('pipe.pkl','wb')) "
   ]
  },
  {
   "cell_type": "code",
   "execution_count": null,
   "metadata": {},
   "outputs": [],
   "source": []
  }
 ],
 "metadata": {
  "colab": {
   "provenance": []
  },
  "kernelspec": {
   "display_name": "Python 3 (ipykernel)",
   "language": "python",
   "name": "python3"
  },
  "language_info": {
   "codemirror_mode": {
    "name": "ipython",
    "version": 3
   },
   "file_extension": ".py",
   "mimetype": "text/x-python",
   "name": "python",
   "nbconvert_exporter": "python",
   "pygments_lexer": "ipython3",
   "version": "3.9.13"
  }
 },
 "nbformat": 4,
 "nbformat_minor": 1
}
